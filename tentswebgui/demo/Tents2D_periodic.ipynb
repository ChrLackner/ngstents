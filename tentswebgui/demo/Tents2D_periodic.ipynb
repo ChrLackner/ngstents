{
 "cells": [
  {
   "cell_type": "markdown",
   "metadata": {},
   "source": [
    "## Periodic Tents 2D Visualization\n",
    "Space-time tent slab based on a periodic mesh consists of layers of tents with causal boundaries.  View by tent or by layer"
   ]
  },
  {
   "cell_type": "code",
   "execution_count": 7,
   "metadata": {},
   "outputs": [],
   "source": [
    "from netgen.geom2d import SplineGeometry\n",
    "from ngsolve.webgui import Draw\n",
    "import ngsolve as ng\n",
    "from ngstents import TentSlab\n",
    "import tentswebgui"
   ]
  },
  {
   "cell_type": "code",
   "execution_count": 8,
   "metadata": {},
   "outputs": [],
   "source": [
    "def periodic_mesh():\n",
    "    geo = SplineGeometry()\n",
    "    pnts = [ (0,0), (1,0), (1,1), (0,1) ]\n",
    "    pnums = [geo.AppendPoint(*p) for p in pnts]\n",
    "    geo.Append ( [\"line\", pnums[0], pnums[1]],bc=\"outer\")\n",
    "    lright = geo.Append ( [\"line\", pnums[1], pnums[2]], bc=\"periodic\")\n",
    "    geo.Append ( [\"line\", pnums[2], pnums[3]], bc=\"outer\")\n",
    "    geo.Append ( [\"line\", pnums[0], pnums[3]], leftdomain=0, rightdomain=1, copy=lright, bc=\"periodic\")\n",
    "    return ng.Mesh(geo.GenerateMesh(maxh=0.2))\n"
   ]
  },
  {
   "cell_type": "code",
   "execution_count": 9,
   "metadata": {
    "scrolled": false
   },
   "outputs": [
    {
     "name": "stdout",
     "output_type": "stream",
     "text": [
      "max slope 0.06250000000000001\n",
      "n tents 190\n",
      "setup: 0.008701086044311523, tents: 0.019304752349853516 faces: 0.1325817108154297\n"
     ]
    },
    {
     "data": {
      "application/vnd.jupyter.widget-view+json": {
       "model_id": "a8ea050374d945748e82c904dd0522ca",
       "version_major": 2,
       "version_minor": 0
      },
      "text/plain": [
       "NGSTentsWebGuiWidget(value={'ntents': 190, 'nlayers': 26, 'ngsolve_version': '6.2.2102-124-gbb6f627c8', 'tent_…"
      ]
     },
     "metadata": {},
     "output_type": "display_data"
    },
    {
     "data": {
      "text/plain": []
     },
     "execution_count": 9,
     "metadata": {},
     "output_type": "execute_result"
    }
   ],
   "source": [
    "mesh = periodic_mesh()\n",
    "dt = 0.05   # tent slab height (in time)\n",
    "wavespeed = 16\n",
    "local_ctau = True\n",
    "global_ctau = 1\n",
    "ts = TentSlab(mesh, method=\"edge\")\n",
    "ts.SetMaxWavespeed(wavespeed)\n",
    "ts.PitchTents(dt=dt, local_ct=local_ctau, global_ct=global_ctau)\n",
    "print(\"max slope\", ts.MaxSlope())\n",
    "print(\"n tents\", ts.GetNTents())\n",
    "\n",
    "tentswebgui.Draw(ts)"
   ]
  },
  {
   "cell_type": "markdown",
   "metadata": {},
   "source": [
    "## Remark\n",
    "If you view by Tents, you will notice that some tents appear disconnected.  This is not a bug, but a correct representation of a tent on a periodic domain"
   ]
  }
 ],
 "metadata": {
  "kernelspec": {
   "display_name": "Python 3",
   "language": "python",
   "name": "python3"
  },
  "language_info": {
   "codemirror_mode": {
    "name": "ipython",
    "version": 3
   },
   "file_extension": ".py",
   "mimetype": "text/x-python",
   "name": "python",
   "nbconvert_exporter": "python",
   "pygments_lexer": "ipython3",
   "version": "3.8.5"
  }
 },
 "nbformat": 4,
 "nbformat_minor": 4
}
