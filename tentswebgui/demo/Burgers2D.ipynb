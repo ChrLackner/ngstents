{
 "cells": [
  {
   "cell_type": "markdown",
   "metadata": {},
   "source": [
    "## Burgers 2D Mapped Tent Pitching and Picard Propagation"
   ]
  },
  {
   "cell_type": "code",
   "execution_count": 1,
   "metadata": {},
   "outputs": [],
   "source": [
    "from netgen.geom2d import SplineGeometry\n",
    "from ngsolve import Mesh, CoefficientFunction, x, y, exp\n",
    "from ngsolve import TaskManager, SetNumThreads\n",
    "from ngsolve.webgui import Draw\n",
    "from ngstents import TentSlab, Burgers\n",
    "import tentswebgui"
   ]
  },
  {
   "cell_type": "code",
   "execution_count": 2,
   "metadata": {},
   "outputs": [
    {
     "name": "stdout",
     "output_type": "stream",
     "text": [
      "max slope 0.09399252880608487\n"
     ]
    },
    {
     "data": {
      "application/vnd.jupyter.widget-view+json": {
       "model_id": "ed509d551b7541c6b3d6683a30e2bfb4",
       "version_major": 2,
       "version_minor": 0
      },
      "text/plain": [
       "NGSTentsWebGuiWidget(value={'ntents': 7974, 'nlayers': 77, 'ngsolve_version': '6.2.2006-132-g7ea3446c', 'tent_…"
      ]
     },
     "metadata": {},
     "output_type": "display_data"
    },
    {
     "data": {
      "text/plain": []
     },
     "execution_count": 2,
     "metadata": {},
     "output_type": "execute_result"
    }
   ],
   "source": [
    "SetNumThreads(1)\n",
    "maxh = 0.05\n",
    "geom = SplineGeometry()\n",
    "geom.AddRectangle((0, 0), (1, 1), bc=1)\n",
    "mesh = Mesh(geom.GenerateMesh(maxh=maxh))\n",
    "\n",
    "heapsize = 10*1000*1000\n",
    "dt = 0.05\n",
    "c = 16\n",
    "ts = TentSlab(mesh, dt, c, heapsize)\n",
    "print(\"max slope\", ts.MaxSlope())\n",
    "\n",
    "tentswebgui.Draw(ts)"
   ]
  },
  {
   "cell_type": "code",
   "execution_count": 3,
   "metadata": {
    "scrolled": false
   },
   "outputs": [
    {
     "data": {
      "application/vnd.jupyter.widget-view+json": {
       "model_id": "2f5c3b4a7a334f4086c54c0afd7fd62e",
       "version_major": 2,
       "version_minor": 0
      },
      "text/plain": [
       "NGSWebGuiWidget(value={'ngsolve_version': '6.2.2006-132-g7ea3446c', 'mesh_dim': 2, 'order2d': 2, 'order3d': 2,…"
      ]
     },
     "metadata": {},
     "output_type": "display_data"
    },
    {
     "name": "stdout",
     "output_type": "stream",
     "text": [
      "0.050\n"
     ]
    },
    {
     "data": {
      "application/vnd.jupyter.widget-view+json": {
       "model_id": "9757cd853b2345c0b1fd703ca367ae9f",
       "version_major": 2,
       "version_minor": 0
      },
      "text/plain": [
       "NGSWebGuiWidget(value={'ngsolve_version': '6.2.2006-132-g7ea3446c', 'mesh_dim': 2, 'order2d': 2, 'order3d': 2,…"
      ]
     },
     "metadata": {},
     "output_type": "display_data"
    },
    {
     "name": "stdout",
     "output_type": "stream",
     "text": [
      "0.100\n"
     ]
    },
    {
     "data": {
      "application/vnd.jupyter.widget-view+json": {
       "model_id": "0da17c1a87b84b71b1596e5492b83c43",
       "version_major": 2,
       "version_minor": 0
      },
      "text/plain": [
       "NGSWebGuiWidget(value={'ngsolve_version': '6.2.2006-132-g7ea3446c', 'mesh_dim': 2, 'order2d': 2, 'order3d': 2,…"
      ]
     },
     "metadata": {},
     "output_type": "display_data"
    },
    {
     "name": "stdout",
     "output_type": "stream",
     "text": [
      "0.150\n"
     ]
    },
    {
     "data": {
      "application/vnd.jupyter.widget-view+json": {
       "model_id": "d62de4e9a6a14149b2ec863fbb73ee59",
       "version_major": 2,
       "version_minor": 0
      },
      "text/plain": [
       "NGSWebGuiWidget(value={'ngsolve_version': '6.2.2006-132-g7ea3446c', 'mesh_dim': 2, 'order2d': 2, 'order3d': 2,…"
      ]
     },
     "metadata": {},
     "output_type": "display_data"
    }
   ],
   "source": [
    "order = 4\n",
    "cf = CoefficientFunction(exp(-50*((x-0.3)*(x-0.3)+(y-0.3)*(y-0.3))))\n",
    "\n",
    "burg = Burgers(ts, order=order)\n",
    "burg.SetInitial(cf)\n",
    "sol = burg.sol\n",
    "Draw(sol)\n",
    "\n",
    "tend = 3*dt\n",
    "t = 0\n",
    "cnt = 0\n",
    "\n",
    "with TaskManager():\n",
    "    while t < tend - dt/2:\n",
    "        burg.PropagatePicard(sol.vec, steps=order*order)\n",
    "        t += dt\n",
    "        cnt += 1\n",
    "        if cnt % 1 == 0:\n",
    "            print(\"{:.3f}\".format(t))\n",
    "            Draw(sol) # not able to get Redraw to work yet, so just draw each."
   ]
  }
 ],
 "metadata": {
  "kernelspec": {
   "display_name": "Python 3",
   "language": "python",
   "name": "python3"
  },
  "language_info": {
   "codemirror_mode": {
    "name": "ipython",
    "version": 3
   },
   "file_extension": ".py",
   "mimetype": "text/x-python",
   "name": "python",
   "nbconvert_exporter": "python",
   "pygments_lexer": "ipython3",
   "version": "3.8.3"
  }
 },
 "nbformat": 4,
 "nbformat_minor": 4
}
