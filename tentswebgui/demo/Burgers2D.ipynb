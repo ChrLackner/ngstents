{
 "cells": [
  {
   "cell_type": "markdown",
   "metadata": {},
   "source": [
    "## Burgers 2D Mapped Tent Pitching and Picard Propagation"
   ]
  },
  {
   "cell_type": "code",
   "execution_count": 6,
   "metadata": {},
   "outputs": [],
   "source": [
    "from netgen.geom2d import SplineGeometry\n",
    "from ngsolve import Mesh, L2, GridFunction, CoefficientFunction, x, y, exp\n",
    "from ngsolve import TaskManager, SetNumThreads\n",
    "from ngsolve.webgui import Draw\n",
    "from ngstents import TentSlab\n",
    "from ngstents.conslaw import Burgers\n",
    "import tentswebgui"
   ]
  },
  {
   "cell_type": "code",
   "execution_count": 7,
   "metadata": {},
   "outputs": [],
   "source": [
    "# SetNumThreads(1)\n",
    "maxh = 0.05\n",
    "geom = SplineGeometry()\n",
    "geom.AddRectangle((0, 0), (1, 1), bc=1)\n",
    "mesh = Mesh(geom.GenerateMesh(maxh=maxh))\n"
   ]
  },
  {
   "cell_type": "code",
   "execution_count": 8,
   "metadata": {},
   "outputs": [
    {
     "name": "stdout",
     "output_type": "stream",
     "text": [
      "max slope 0.0625000000000002\n",
      "n tents 9673\n",
      "setup: 0.4548001289367676, tents: 1.0865249633789062 faces: 6.6120078563690186\n"
     ]
    },
    {
     "data": {
      "application/vnd.jupyter.widget-view+json": {
       "model_id": "70668549c2184eaa8ae29646ddfd0ab0",
       "version_major": 2,
       "version_minor": 0
      },
      "text/plain": [
       "NGSTentsWebGuiWidget(value={'ntents': 9673, 'nlayers': 93, 'ngsolve_version': '6.2.2101-17-g7fcf4d59d', 'tent_…"
      ]
     },
     "metadata": {},
     "output_type": "display_data"
    },
    {
     "data": {
      "text/plain": []
     },
     "execution_count": 8,
     "metadata": {},
     "output_type": "execute_result"
    }
   ],
   "source": [
    "# heapsize = 10*1000*1000\n",
    "dt = 0.05   # tent slab height (in time)\n",
    "wavespeed = 16\n",
    "local_ctau = True\n",
    "global_ctau = 1\n",
    "ts = TentSlab(mesh, method=\"edge\")\n",
    "ts.SetMaxWavespeed(wavespeed)\n",
    "ts.PitchTents(dt=dt, local_ct=local_ctau, global_ct=global_ctau)\n",
    "print(\"max slope\", ts.MaxSlope())\n",
    "print(\"n tents\", ts.GetNTents())\n",
    "\n",
    "# ts = TentSlab(mesh, dt, c, heapsize)\n",
    "tentswebgui.Draw(ts)"
   ]
  },
  {
   "cell_type": "code",
   "execution_count": 10,
   "metadata": {
    "scrolled": false
   },
   "outputs": [
    {
     "data": {
      "application/vnd.jupyter.widget-view+json": {
       "model_id": "835c181f25b246fbab4623f93dec7576",
       "version_major": 2,
       "version_minor": 0
      },
      "text/plain": [
       "NGSWebGuiWidget(value={'ngsolve_version': '6.2.2101-17-g7fcf4d59d', 'mesh_dim': 2, 'order2d': 2, 'order3d': 2,…"
      ]
     },
     "metadata": {},
     "output_type": "display_data"
    },
    {
     "name": "stdout",
     "output_type": "stream",
     "text": [
      "0.050\n",
      "0.100\n",
      "0.150\n"
     ]
    }
   ],
   "source": [
    "order = 4\n",
    "cf = CoefficientFunction(exp(-50*((x-0.3)*(x-0.3)+(y-0.3)*(y-0.3))))\n",
    "\n",
    "V = L2(mesh, order=order)\n",
    "u = GridFunction(V,\"u\")\n",
    "burg = Burgers(u, ts)\n",
    "burg.SetTentSolver(\"SARK\",substeps=order*order)\n",
    "burg.SetInitial(cf)\n",
    "\n",
    "scene = Draw(u, animate=True)\n",
    "\n",
    "tend = 3*dt\n",
    "t = 0\n",
    "cnt = 0\n",
    "\n",
    "with TaskManager():\n",
    "    while t < tend - dt/2:\n",
    "        burg.Propagate()\n",
    "        t += dt\n",
    "        cnt += 1\n",
    "        if cnt % 1 == 0:\n",
    "            print(\"{:.3f}\".format(t))\n",
    "            scene.Redraw()\n"
   ]
  },
  {
   "cell_type": "code",
   "execution_count": null,
   "metadata": {},
   "outputs": [],
   "source": []
  }
 ],
 "metadata": {
  "kernelspec": {
   "display_name": "Python 3",
   "language": "python",
   "name": "python3"
  },
  "language_info": {
   "codemirror_mode": {
    "name": "ipython",
    "version": 3
   },
   "file_extension": ".py",
   "mimetype": "text/x-python",
   "name": "python",
   "nbconvert_exporter": "python",
   "pygments_lexer": "ipython3",
   "version": "3.6.9"
  }
 },
 "nbformat": 4,
 "nbformat_minor": 4
}
