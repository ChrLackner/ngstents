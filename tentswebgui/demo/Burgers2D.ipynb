{
 "cells": [
  {
   "cell_type": "markdown",
   "metadata": {},
   "source": [
    "## Burgers 2D Mapped Tent Pitching and Picard Propagation"
   ]
  },
  {
   "cell_type": "code",
   "execution_count": 1,
   "metadata": {},
   "outputs": [],
   "source": [
    "from netgen.geom2d import SplineGeometry\n",
    "from ngsolve import Mesh, CoefficientFunction, x, y, exp\n",
    "from ngsolve import TaskManager, SetNumThreads\n",
    "from ngsolve.webgui import Draw\n",
    "from ngstents import TentSlab, Burgers\n",
    "import tentswebgui"
   ]
  },
  {
   "cell_type": "code",
   "execution_count": 2,
   "metadata": {},
   "outputs": [],
   "source": [
    "SetNumThreads(1)\n",
    "maxh = 0.05\n",
    "geom = SplineGeometry()\n",
    "geom.AddRectangle((0, 0), (1, 1), bc=1)\n",
    "mesh = Mesh(geom.GenerateMesh(maxh=maxh))\n",
    "\n"
   ]
  },
  {
   "cell_type": "code",
   "execution_count": 3,
   "metadata": {},
   "outputs": [
    {
     "name": "stdout",
     "output_type": "stream",
     "text": [
      "max slope 0.09003623964159489\n",
      "setup: 0.3191719055175781, tents: 0.6767008304595947 faces: 5.260349750518799\n"
     ]
    },
    {
     "data": {
      "application/vnd.jupyter.widget-view+json": {
       "model_id": "c0fdac12f9954d0d9abe143790d1b4ef",
       "version_major": 2,
       "version_minor": 0
      },
      "text/plain": [
       "NGSTentsWebGuiWidget(value={'ntents': 7923, 'nlayers': 76, 'ngsolve_version': '6.2.2006-26-gf084b4f7', 'tent_e…"
      ]
     },
     "metadata": {},
     "output_type": "display_data"
    },
    {
     "data": {
      "text/plain": []
     },
     "execution_count": 3,
     "metadata": {},
     "output_type": "execute_result"
    }
   ],
   "source": [
    "heapsize = 10*1000*1000\n",
    "dt = 0.05   # tent slab height (in time)\n",
    "c = 16      # wavespeed\n",
    "ts = TentSlab(mesh, dt, c, heapsize)\n",
    "print(\"max slope\", ts.MaxSlope())  # need max slope <= 1/wavespeed for causality\n",
    "\n",
    "tentswebgui.Draw(ts)"
   ]
  },
  {
   "cell_type": "code",
   "execution_count": 5,
   "metadata": {
    "scrolled": false
   },
   "outputs": [
    {
     "data": {
      "application/vnd.jupyter.widget-view+json": {
       "model_id": "21d0d5dc7a9c4995a8af1076c111b5cb",
       "version_major": 2,
       "version_minor": 0
      },
      "text/plain": [
       "NGSWebGuiWidget(value={'ngsolve_version': '6.2.2006-26-gf084b4f7', 'mesh_dim': 2, 'order2d': 2, 'order3d': 2, …"
      ]
     },
     "metadata": {},
     "output_type": "display_data"
    },
    {
     "name": "stdout",
     "output_type": "stream",
     "text": [
      "0.050\n"
     ]
    },
    {
     "data": {
      "application/vnd.jupyter.widget-view+json": {
       "model_id": "a8a73bc656cb43b29aa8ba12bc503cb9",
       "version_major": 2,
       "version_minor": 0
      },
      "text/plain": [
       "NGSWebGuiWidget(value={'ngsolve_version': '6.2.2006-26-gf084b4f7', 'mesh_dim': 2, 'order2d': 2, 'order3d': 2, …"
      ]
     },
     "metadata": {},
     "output_type": "display_data"
    },
    {
     "name": "stdout",
     "output_type": "stream",
     "text": [
      "0.100\n"
     ]
    },
    {
     "data": {
      "application/vnd.jupyter.widget-view+json": {
       "model_id": "c0c54414fe28420bafe24ee1bfab2739",
       "version_major": 2,
       "version_minor": 0
      },
      "text/plain": [
       "NGSWebGuiWidget(value={'ngsolve_version': '6.2.2006-26-gf084b4f7', 'mesh_dim': 2, 'order2d': 2, 'order3d': 2, …"
      ]
     },
     "metadata": {},
     "output_type": "display_data"
    },
    {
     "name": "stdout",
     "output_type": "stream",
     "text": [
      "0.150\n"
     ]
    },
    {
     "data": {
      "application/vnd.jupyter.widget-view+json": {
       "model_id": "80c944d1c9984dab9f3ca44c060ee18b",
       "version_major": 2,
       "version_minor": 0
      },
      "text/plain": [
       "NGSWebGuiWidget(value={'ngsolve_version': '6.2.2006-26-gf084b4f7', 'mesh_dim': 2, 'order2d': 2, 'order3d': 2, …"
      ]
     },
     "metadata": {},
     "output_type": "display_data"
    }
   ],
   "source": [
    "order = 4\n",
    "cf = CoefficientFunction(exp(-50*((x-0.3)*(x-0.3)+(y-0.3)*(y-0.3))))\n",
    "\n",
    "burg = Burgers(ts, order=order)\n",
    "burg.SetInitial(cf)\n",
    "sol = burg.sol\n",
    "Draw(sol)\n",
    "\n",
    "tend = 3*dt\n",
    "t = 0\n",
    "cnt = 0\n",
    "\n",
    "with TaskManager():\n",
    "    while t < tend - dt/2:\n",
    "        burg.PropagatePicard(sol.vec, steps=order*order)\n",
    "        t += dt\n",
    "        cnt += 1\n",
    "        if cnt % 1 == 0:\n",
    "            print(\"{:.3f}\".format(t))\n",
    "            Draw(sol) # not able to get Redraw to work yet, so just draw each."
   ]
  },
  {
   "cell_type": "code",
   "execution_count": null,
   "metadata": {},
   "outputs": [],
   "source": []
  }
 ],
 "metadata": {
  "kernelspec": {
   "display_name": "Python 3",
   "language": "python",
   "name": "python3"
  },
  "language_info": {
   "codemirror_mode": {
    "name": "ipython",
    "version": 3
   },
   "file_extension": ".py",
   "mimetype": "text/x-python",
   "name": "python",
   "nbconvert_exporter": "python",
   "pygments_lexer": "ipython3",
   "version": "3.8.2"
  }
 },
 "nbformat": 4,
 "nbformat_minor": 4
}
