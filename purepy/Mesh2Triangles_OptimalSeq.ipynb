{
 "cells": [
  {
   "cell_type": "markdown",
   "metadata": {},
   "source": [
    "# 2-Triangle Meshes with no optimal sequence"
   ]
  },
  {
   "cell_type": "code",
   "execution_count": 1,
   "metadata": {},
   "outputs": [],
   "source": [
    "import numpy as np\n",
    "import numpy.linalg as la\n",
    "import matplotlib.pyplot as plt\n",
    "\n",
    "np.set_printoptions(precision=3, suppress=True)"
   ]
  },
  {
   "cell_type": "code",
   "execution_count": 2,
   "metadata": {},
   "outputs": [],
   "source": [
    "class simplex(object):\n",
    "    \"\"\"\n",
    "    A simplex\n",
    "    \"\"\"\n",
    "\n",
    "    def __init__(self, pts, cbar=1.0):\n",
    "        \"\"\"\n",
    "        INPUTS\n",
    "\n",
    "        pts: d+1 x d numpy array, each row a vertex of a conforming simplex\n",
    "        cbar: float wavespeed\n",
    "        \"\"\"\n",
    "        self.pts = pts                # vertex points of simplex\n",
    "        self.d = pts.shape[1]         # simplex dimension\n",
    "        self.cbar = cbar              # wave speed\n",
    "        self.nmls = None              # cached normal vectors\n",
    "        self.ts = np.zeros(self.d+1)  # current vertex times\n",
    "        \n",
    "        # lists of pre-computed matrices, vectors and constants, one list element per vertex\n",
    "        # see greedyproof.pdf for details\n",
    "        Ms, Msums, Mdot1s, Ainvs = [], [], [], []\n",
    "        for i in range(self.d+1):\n",
    "            At = np.roll(pts - pts[i, :], -(i+1), 0)[:self.d, :]\n",
    "            Ainvs.append(la.inv(At.T))\n",
    "            M = la.inv(At@At.T)\n",
    "            Ms.append(M)\n",
    "            Mdot1s.append(M.sum(axis=0))\n",
    "            Msums.append(M.sum())\n",
    "        self.Ms, self.Msums, self.Mdot1s, self.Ainvs = Ms, Msums, Mdot1s, Ainvs\n",
    "\n",
    "\n",
    "    def gradtau(self):\n",
    "        return self.dts(0).dot(self.Ainvs[0])\n",
    "    \n",
    "    def theta(self):\n",
    "        x, y = self.gradtau()\n",
    "        return np.arctan2(y, x)*180/np.pi\n",
    "    \n",
    "    def gtdotn(self, vtx):\n",
    "        return self.dts(vtx).dot(self.Mdot1s[vtx])\n",
    "        \n",
    "    def gradnormsq(self):\n",
    "        \"\"\"\n",
    "        Compute ||∇ τ||²\n",
    "        \"\"\"\n",
    "        dts = self.dts(0)\n",
    "        return dts.dot(self.Ms[0]).dot(dts)\n",
    "\n",
    "    def dts(self, ix):\n",
    "        \"\"\"\n",
    "        Compute dtₖ, the vector of time differences relative to vₖ\n",
    "\n",
    "        INPUTS\n",
    "\n",
    "        ix: index of reference vertex\n",
    "        \"\"\"\n",
    "        return np.roll(self.ts - self.ts[ix], -(ix+1))[:self.d]\n",
    "\n",
    "    def kbar(self, ix):\n",
    "        \"\"\"\n",
    "        Compute time increment kbar for vertex ix\n",
    "\n",
    "        INPUTS\n",
    "\n",
    "        ts: numpy array with d+1 elements representing vertex times\n",
    "        \"\"\"\n",
    "        M, Msum, Mdot1 = self.Ms[ix], self.Msums[ix], self.Mdot1s[ix]\n",
    "        c = self.cbar\n",
    "        dt = self.dts(ix)\n",
    "        m1dt = Mdot1.dot(dt)\n",
    "        disc = m1dt**2 - Msum * (dt.dot(M).dot(dt) - 1/c)\n",
    "        if disc < 0:\n",
    "            disc = 0.\n",
    "        return (m1dt + np.sqrt(disc))/Msum\n"
   ]
  },
  {
   "cell_type": "code",
   "execution_count": 7,
   "metadata": {},
   "outputs": [],
   "source": [
    "class slab2d(object):\n",
    "    \"\"\"\n",
    "    A tent slab based on a 2D simplicial mesh with 2 triangles\n",
    "    \"\"\"\n",
    "\n",
    "    def __init__(self, cbar=1.0, vpts=None):\n",
    "        \"\"\"\n",
    "        INPUTS\n",
    "        cbar: float wavespeed, default 1.0\n",
    "        vpts: 4x2 numpy array representing 4 2D points (if not set\n",
    "              (if not specified, random vertices are generated)\n",
    "        \"\"\"\n",
    "        self.cbar = cbar\n",
    "        \n",
    "        if vpts is None:\n",
    "            # generate random vertices for the two triangles\n",
    "            pts1 = np.random.rand(3, 2)\n",
    "            diffs1 = (pts1 - pts1[0, :])[1:, :]\n",
    "            if la.det(diffs1) <= 0:\n",
    "                pts1[[0, 1], :] = pts1[[1, 0], :]\n",
    "\n",
    "            pts2i = pts1[[0, 2], :]\n",
    "            pts2 = np.vstack((pts2i, np.random.rand(2)))\n",
    "            diffs2 = (pts2 - pts2[0, :])[1:, :]\n",
    "            while la.det(diffs2) <= 0:\n",
    "                pts2 = np.vstack((pts2i, np.random.rand(2)))\n",
    "                diffs2 = (pts2 - pts2[0, :])[1:, :]\n",
    "            self.vpts = np.vstack((pts1, pts2[-1, :]))\n",
    "        else:\n",
    "            # use the provided vertices\n",
    "            self.vpts = vpts\n",
    "            pts1 = self.vpts[:-1, :]\n",
    "            pts2 = self.vpts[[0, 2, 3], :]\n",
    "\n",
    "        # element to vertex and vertex to element maps\n",
    "        self.v2e = {0: [0, 1], 1: [0], 2: [0, 1], 3: [1]}\n",
    "        self.e2v = {0: [0, 1, 2], 1: [0, 2, 3]}\n",
    "\n",
    "        self.els = [simplex(pts1, cbar), simplex(pts2, cbar)]\n",
    "        self.ts = np.zeros(4)\n",
    "        self.minstep = 1.0e16\n",
    "\n",
    "    def elix(self, e, v):\n",
    "        \"\"\"\n",
    "        Return the index of v in the context of element e\n",
    "        \"\"\"\n",
    "        vs = self.e2v[e]\n",
    "        if v not in vs:\n",
    "            raise ValueError()\n",
    "        return vs.index(v)\n",
    "    \n",
    "    def gtdotns(self, v):\n",
    "        return [np.round(self.els[e].gtdotn(self.elix(e, v)),3) for e in self.v2e[v]]\n",
    "    \n",
    "    def allgtdotns(self):\n",
    "        return [self.gtdotns(v) for v in range(4)]\n",
    "    \n",
    "    def state(self):\n",
    "        \"\"\"\n",
    "        subtract min time to more easily identify identical states\n",
    "        \"\"\"\n",
    "        return self.ts - min(self.ts)\n",
    "\n",
    "    def updatets(self, v):\n",
    "        \"\"\"\n",
    "        Update the time for the specified vertex based on global times\n",
    "        \"\"\"\n",
    "        for e in self.v2e[v]:\n",
    "            ix = self.elix(e, v)\n",
    "            self.els[e].ts[ix] = self.ts[v]\n",
    "\n",
    "    def kbars(self, v):\n",
    "        \"\"\"\n",
    "        Given a vertex, compute time increments which would set ||∇ τ|| = 1/cbar\n",
    "        for each adjacent element.\n",
    "        \"\"\"\n",
    "        result = []\n",
    "        for e in self.v2e[v]:\n",
    "            el = self.els[e]\n",
    "            eix = self.elix(e, v)\n",
    "            result.append(el.kbar(eix))\n",
    "        return result\n",
    "    \n",
    "    def allkbars(self):\n",
    "        return [[np.round(k,3)  for k in self.kbars(v)] for v in range(4)]\n",
    "    \n",
    "    def isoptimal(self, vtx):\n",
    "        \"\"\"\n",
    "        a vertex is optimal if grad tau is zero for all its elements\n",
    "        or gtdotn corresponding to its minimal kbar is positive\n",
    "        \"\"\"\n",
    "        if max(e.gradnormsq() for e in self.els) == 0:\n",
    "            return True\n",
    "        gtdotns = self.gtdotns(vtx)\n",
    "        ix = np.argmin(self.kbars(vtx))\n",
    "        return gtdotns[ix] > 0\n",
    "\n",
    "    def optimals(self):\n",
    "        return [self.isoptimal(v) for v in range(4)]\n",
    "    \n",
    "    def ktildes(self):\n",
    "        \"\"\"\n",
    "        Compute the time increment for each vertex v such that\n",
    "        max over elements incident on v of ||∇ τ|| = 1/cbar\n",
    "        \"\"\"\n",
    "        result = []\n",
    "        for v in range(4):\n",
    "            kbars = self.kbars(v)\n",
    "            result.append(min(kbars))\n",
    "        return result\n",
    "\n",
    "    def weight(self, vtx):\n",
    "        \"\"\"\n",
    "        function used to weight the ktilde for a vertex in the selection process\n",
    "        consider:\n",
    "        1. number of elements incident on the vertex\n",
    "        2. inverse distance to opposite edge\n",
    "        3. something with time maybe.  Need to prevent the possibility of both the two single-element\n",
    "           vertices both being ahead of the double-element vertices in time.  Ok if only one is.\n",
    "        \"\"\"\n",
    "        wt = 0.0\n",
    "        ne = len(self.v2e[vtx])\n",
    "        for e in self.v2e[vtx]:\n",
    "            vix = self.elix(e, vtx)\n",
    "            term = ne*self.els[e].Msums[vix]\n",
    "            # print(\"vtx\", vtx, \"term\", term) \n",
    "            wt += term\n",
    "        return wt\n",
    "\n",
    "    def step(self, verbose=False, weight=False, vtx=None):\n",
    "        \"\"\"\n",
    "        If weight is True, use the weighting function in the vertex selection process.\n",
    "        If vtx is not given, select the vertex with maximal ktilde\n",
    "        and pitch a tent at that vertex.\n",
    "        If vtx is specified, override to pitch a tent at vtx\n",
    "        \"\"\"\n",
    "        ktildes = self.ktildes()\n",
    "        if weight:\n",
    "            prods = [k*self.weight(i) for i, k in enumerate(ktildes)]\n",
    "            print(\"prods\", prods)\n",
    "            imax = np.argmax(prods)\n",
    "        elif vtx is not None:\n",
    "            imax = vtx\n",
    "        else:\n",
    "            imax = np.argmax(ktildes)  # global index of vertex w/ max ktilde\n",
    "        ktmax = max(0, ktildes[imax])\n",
    "        if ktmax < self.minstep:\n",
    "            self.minstep = ktmax\n",
    "        self.ts[imax] += max(0, ktildes[imax])\n",
    "        thetas = [e.theta() for e in self.els]\n",
    "        gradnormsqs = [e.gradnormsq() for e in self.els]\n",
    "        gtdotns = self.allgtdotns()\n",
    "        # update times\n",
    "        self.updatets(imax)\n",
    "        if verbose:\n",
    "            print(\"ktildes\", np.array(ktildes))\n",
    "            print(\"updated vertex\", imax)\n",
    "            print(\"new times\", self.ts)\n",
    "            print(\"minstep\", self.minstep)\n",
    "            \n",
    "        # preview ktildes for next step, but don't use them to pitch a tent\n",
    "        ktildes = self.ktildes()\n",
    "        thetas = [e.theta() for e in self.els]\n",
    "        gradnormsqs = [e.gradnormsq() for e in self.els]\n",
    "        allkbars = self.allkbars()\n",
    "        gtdotns = self.allgtdotns()\n",
    "        if verbose:\n",
    "            print(\"next step preview\")\n",
    "            print(\" ktildes\", np.array(ktildes))\n",
    "            print(\" kbars\", allkbars)\n",
    "            print(\" ∇𝜏⋅𝑛\", gtdotns)\n",
    "            print(\" optimal\", self.optimals())\n",
    "        return self.optimals()\n",
    "\n",
    "\n",
    "    def plot(self):\n",
    "        \"\"\"\n",
    "        Draw the 2 triangle mesh\n",
    "        \"\"\"\n",
    "        fig, ax = plt.subplots()\n",
    "        ax.set_aspect('equal')\n",
    "        for el in self.els:\n",
    "            lpts = np.vstack((el.pts, el.pts[0, :])).tolist()\n",
    "            ppts = list(zip(*lpts))\n",
    "            ax.plot(ppts[0], ppts[1], 'g-')\n",
    "        vpts = self.vpts.tolist()\n",
    "        ppts = list(zip(*vpts))\n",
    "        ax.scatter(ppts[0], ppts[1], c='blue')\n",
    "        for i, pt in enumerate(vpts):\n",
    "            plt.annotate(\"  v{}\".format(i), pt)\n",
    "        plt.show()\n",
    "\n",
    "def traverse(s):\n",
    "    lvl = 0\n",
    "    for v in range(4):\n",
    "        print()\n",
    "        print(\"Starting sequence with vertex\", v)\n",
    "        # get a new slab with the same vertices\n",
    "        s = slab2d(vpts=s.vpts)\n",
    "        recurse(s, v, lvl+1)\n",
    "    return s\n",
    "\n",
    "def recurse(s, v, lvl):\n",
    "    print(\"level\", lvl, \"vtx\", v)\n",
    "    optimals = s.step(vtx=v)\n",
    "    nz = np.nonzero(optimals)[0]\n",
    "    if len(nz) == 0:\n",
    "        print(\"No optimal vertices - path terminated.\")\n",
    "        return\n",
    "    else:\n",
    "        print(\"Optimal vertices\", nz)\n",
    "        for v in nz:\n",
    "            recurse(s, v, lvl+1)\n",
    "    "
   ]
  },
  {
   "cell_type": "markdown",
   "metadata": {},
   "source": [
    "## Optimal sequences of tent vertices\n",
    "\n",
    "Let $\\overline{k}(v, e)$ for an element e and vertex v, be the non-negative increment to $\\tau|_e(v)$ such that\n",
    "$\\nabla \\tau'|_e(v) = 1/\\overline{c}$.\n",
    "\n",
    "When $\\nabla \\tau = 1/\\overline{c}$ for an element $e$, we have the simple condition:\n",
    "$$\\overline{k}(v_i, e) > 0 \\iff \\nabla \\tau|_e \\cdot n_i > 0.$$  \n",
    "We say that $\\overline{k}$ is 'optimal' if $\\nabla \\tau \\equiv 0$ or $\\nabla \\tau|_e \\cdot n_i > 0$.  Such a value is bounded below by a positive value that depends only on $\\overline{c}$ and the geometry of $e$ and can be computed simply by\n",
    "\n",
    "$$\\overline{k}(v_i, e) = \\frac{2 \\nabla \\tau \\cdot n_i}{\\Sigma M_i} = \\frac{ = 2(\\mathbf{1}\\cdot M_i dt_i^T)}{\\Sigma M_i}$$\n",
    "where $n_i$ is the outer normal vector opposite $v_i$ computed by $dt_i A_i^{-1}$.\n",
    "\n",
    "However, if $\\nabla \\tau < 1/\\overline{c}$ for an element $e$, $\\overline{k}$ is positive for every vertex of $e$, but only those vertices $v_i$ which satisfy $\\nabla \\tau \\cdot n_i > 0$ whenever $\\nabla \\tau \\neq 0$ are optimal.\n",
    "\n",
    "Now we define $\\tilde{k}$ for a vertex $v_i$ as the minimum of its $\\overline{k}$ values over its elements.  We say that $\\tilde{k}$ is 'optimal' if a minimal $\\overline{k}$ value for $v_i$ satisfies $\\nabla \\tau \\cdot n_i > 0$ whenever $\\nabla \\tau \\neq 0$ "
   ]
  },
  {
   "cell_type": "markdown",
   "metadata": {},
   "source": [
    "## Examples of a 2-triangle mesh with no optimal sequence\n",
    "\n",
    "We have seen examples of 2-triangle meshes for which the Greedy II algorithm fails.  But that algorithm defines a *specific sequence* of vertices with large, though not necessarily optimal, $\\tilde{k}$ values by selecting at each step the next vertex as the one with maximal $\\tilde{k}$.   But many other sequences are possible.  In fact, we have been able to generate optimal sequences, which appear to continue indefinitely, for each of the examples in the 'Mesh2Triangles' notebook. The question naturally arises:  \n",
    "\n",
    "For an arbitrary simplicial mesh, does there exist an infinite sequence of optimal vertices?  The answer is no.\n",
    "\n",
    "We give examples of 2-triangle meshes such that there is no infinite sequence of 'optimal vertices'.\n",
    "\n",
    "We don't consider sequences containing non-optimal $\\tilde{k}$ values, since for such sequences, the time increments could become arbitrarily small, thus yielding an infinite sequence which only extends to a finite time slab."
   ]
  },
  {
   "cell_type": "code",
   "execution_count": 4,
   "metadata": {
    "scrolled": true
   },
   "outputs": [
    {
     "data": {
      "image/png": "[encoded data removed]",
      "text/plain": [
       "<Figure size 432x288 with 1 Axes>"
      ]
     },
     "metadata": {
      "needs_background": "light"
     },
     "output_type": "display_data"
    }
   ],
   "source": [
    "\n",
    "\n",
    "\n",
    "\n",
    "\n",
    "\n",
    "vpts = np.array([[0.2861798 , 0.59793209],\n",
    "       [0.63771079, 0.00240717],\n",
    "       [0.45567868, 0.95506259],\n",
    "       [0.40467456, 0.99532401]])\n",
    "\n",
    "s = slab2d(vpts=vpts)\n",
    "s.plot()"
   ]
  },
  {
   "cell_type": "markdown",
   "metadata": {},
   "source": [
    "## Traverse the tree of all possible sequences of optimal vertices"
   ]
  },
  {
   "cell_type": "code",
   "execution_count": 5,
   "metadata": {
    "scrolled": false
   },
   "outputs": [
    {
     "name": "stdout",
     "output_type": "stream",
     "text": [
      "\n",
      "Starting sequence with vertex 0\n",
      "level 1 vtx 0\n",
      "Optimal vertices [1 2]\n",
      "level 2 vtx 1\n",
      "Optimal vertices [0 2]\n",
      "level 3 vtx 0\n",
      "Optimal vertices [2]\n",
      "level 4 vtx 2\n",
      "Optimal vertices [3]\n",
      "level 5 vtx 3\n",
      "Optimal vertices [2]\n",
      "level 6 vtx 2\n",
      "Optimal vertices [3]\n",
      "level 7 vtx 3\n",
      "Optimal vertices [2]\n",
      "level 8 vtx 2\n",
      "Optimal vertices [3]\n",
      "level 9 vtx 3\n",
      "Optimal vertices [2]\n",
      "level 10 vtx 2\n",
      "Optimal vertices [0 3]\n",
      "level 11 vtx 0\n",
      "Optimal vertices [3]\n",
      "level 12 vtx 3\n",
      "Optimal vertices [2]\n",
      "level 13 vtx 2\n",
      "Optimal vertices [0 3]\n",
      "level 14 vtx 0\n",
      "Optimal vertices [3]\n",
      "level 15 vtx 3\n",
      "Optimal vertices [2]\n",
      "level 16 vtx 2\n",
      "Optimal vertices [0 3]\n",
      "level 17 vtx 0\n",
      "Optimal vertices [3]\n",
      "level 18 vtx 3\n",
      "Optimal vertices [2]\n",
      "level 19 vtx 2\n",
      "Optimal vertices [0 3]\n",
      "level 20 vtx 0\n",
      "Optimal vertices [1 3]\n",
      "level 21 vtx 1\n",
      "Optimal vertices [3]\n",
      "level 22 vtx 3\n",
      "No optimal vertices - path terminated.\n",
      "level 21 vtx 3\n",
      "No optimal vertices - path terminated.\n",
      "level 20 vtx 3\n",
      "No optimal vertices - path terminated.\n",
      "level 17 vtx 3\n",
      "No optimal vertices - path terminated.\n",
      "level 14 vtx 3\n",
      "No optimal vertices - path terminated.\n",
      "level 11 vtx 3\n",
      "No optimal vertices - path terminated.\n",
      "level 3 vtx 2\n",
      "No optimal vertices - path terminated.\n",
      "level 2 vtx 2\n",
      "No optimal vertices - path terminated.\n",
      "\n",
      "Starting sequence with vertex 1\n",
      "level 1 vtx 1\n",
      "Optimal vertices [0]\n",
      "level 2 vtx 0\n",
      "Optimal vertices [1 2]\n",
      "level 3 vtx 1\n",
      "Optimal vertices [2]\n",
      "level 4 vtx 2\n",
      "Optimal vertices [3]\n",
      "level 5 vtx 3\n",
      "Optimal vertices [2]\n",
      "level 6 vtx 2\n",
      "Optimal vertices [3]\n",
      "level 7 vtx 3\n",
      "Optimal vertices [2]\n",
      "level 8 vtx 2\n",
      "Optimal vertices [3]\n",
      "level 9 vtx 3\n",
      "Optimal vertices [2]\n",
      "level 10 vtx 2\n",
      "Optimal vertices [0 3]\n",
      "level 11 vtx 0\n",
      "Optimal vertices [3]\n",
      "level 12 vtx 3\n",
      "Optimal vertices [2]\n",
      "level 13 vtx 2\n",
      "Optimal vertices [0 3]\n",
      "level 14 vtx 0\n",
      "Optimal vertices [3]\n",
      "level 15 vtx 3\n",
      "Optimal vertices [2]\n",
      "level 16 vtx 2\n",
      "Optimal vertices [0 3]\n",
      "level 17 vtx 0\n",
      "Optimal vertices [3]\n",
      "level 18 vtx 3\n",
      "Optimal vertices [2]\n",
      "level 19 vtx 2\n",
      "Optimal vertices [0 3]\n",
      "level 20 vtx 0\n",
      "Optimal vertices [1 3]\n",
      "level 21 vtx 1\n",
      "Optimal vertices [3]\n",
      "level 22 vtx 3\n",
      "No optimal vertices - path terminated.\n",
      "level 21 vtx 3\n",
      "No optimal vertices - path terminated.\n",
      "level 20 vtx 3\n",
      "No optimal vertices - path terminated.\n",
      "level 17 vtx 3\n",
      "No optimal vertices - path terminated.\n",
      "level 14 vtx 3\n",
      "No optimal vertices - path terminated.\n",
      "level 11 vtx 3\n",
      "No optimal vertices - path terminated.\n",
      "level 3 vtx 2\n",
      "No optimal vertices - path terminated.\n",
      "\n",
      "Starting sequence with vertex 2\n",
      "level 1 vtx 2\n",
      "Optimal vertices [0 3]\n",
      "level 2 vtx 0\n",
      "Optimal vertices [1 3]\n",
      "level 3 vtx 1\n",
      "Optimal vertices [3]\n",
      "level 4 vtx 3\n",
      "No optimal vertices - path terminated.\n",
      "level 3 vtx 3\n",
      "No optimal vertices - path terminated.\n",
      "level 2 vtx 3\n",
      "No optimal vertices - path terminated.\n",
      "\n",
      "Starting sequence with vertex 3\n",
      "level 1 vtx 3\n",
      "Optimal vertices [2]\n",
      "level 2 vtx 2\n",
      "Optimal vertices [0 3]\n",
      "level 3 vtx 0\n",
      "Optimal vertices [1 3]\n",
      "level 4 vtx 1\n",
      "Optimal vertices [3]\n",
      "level 5 vtx 3\n",
      "No optimal vertices - path terminated.\n",
      "level 4 vtx 3\n",
      "No optimal vertices - path terminated.\n",
      "level 3 vtx 3\n",
      "No optimal vertices - path terminated.\n"
     ]
    }
   ],
   "source": [
    "traverse(s)"
   ]
  },
  {
   "cell_type": "markdown",
   "metadata": {},
   "source": [
    "## A sequence in detail"
   ]
  },
  {
   "cell_type": "code",
   "execution_count": 8,
   "metadata": {
    "scrolled": false
   },
   "outputs": [
    {
     "data": {
      "image/png": "[encoded data removed]",
      "text/plain": [
       "<Figure size 432x288 with 1 Axes>"
      ]
     },
     "metadata": {
      "needs_background": "light"
     },
     "output_type": "display_data"
    }
   ],
   "source": [
    "vpts = np.array([[0.2861798 , 0.59793209],\n",
    "       [0.63771079, 0.00240717],\n",
    "       [0.45567868, 0.95506259],\n",
    "       [0.40467456, 0.99532401]])\n",
    "\n",
    "s = slab2d(vpts=vpts)\n",
    "s.plot()"
   ]
  },
  {
   "cell_type": "code",
   "execution_count": 9,
   "metadata": {},
   "outputs": [
    {
     "name": "stdout",
     "output_type": "stream",
     "text": [
      "ktildes [0.234 0.573 0.06  0.063]\n",
      "updated vertex 0\n",
      "new times [0.234 0.    0.    0.   ]\n",
      "minstep 0.23351418561348344\n",
      "next step preview\n",
      " ktildes [0.    0.925 0.063 0.043]\n",
      " kbars [[0.0, 0.152], [0.925], [0.617, 0.063], [0.043]]\n",
      " ∇𝜏⋅𝑛 [[-4.282, -1.573], [1.408], [2.874, 3.708], [-2.135]]\n",
      " optimal [False, True, True, False]\n"
     ]
    }
   ],
   "source": [
    "s.step(True, vtx=0);"
   ]
  },
  {
   "cell_type": "code",
   "execution_count": 10,
   "metadata": {},
   "outputs": [
    {
     "name": "stdout",
     "output_type": "stream",
     "text": [
      "ktildes [0.    0.925 0.063 0.043]\n",
      "updated vertex 1\n",
      "new times [0.234 0.925 0.    0.   ]\n",
      "minstep 0.23351418561348344\n",
      "next step preview\n",
      " ktildes [0.141 0.    0.025 0.043]\n",
      " kbars [[0.141, 0.152], [0.0], [0.025, 0.063], [0.043]]\n",
      " ∇𝜏⋅𝑛 [[1.294, -1.573], [-1.408], [0.115, 3.708], [-2.135]]\n",
      " optimal [True, False, True, False]\n"
     ]
    },
    {
     "data": {
      "text/plain": [
       "[True, False, True, False]"
      ]
     },
     "execution_count": 10,
     "metadata": {},
     "output_type": "execute_result"
    }
   ],
   "source": [
    "s.step(True, vtx=1)"
   ]
  },
  {
   "cell_type": "code",
   "execution_count": 1616,
   "metadata": {},
   "outputs": [
    {
     "name": "stdout",
     "output_type": "stream",
     "text": [
      "ktildes [0.141 0.    0.025 0.043]\n",
      "updated vertex 0\n",
      "new times [0.375 0.925 0.    0.   ]\n",
      "minstep 0.1411027910280955\n",
      "next step preview\n",
      " ktildes [0.    0.    0.048 0.006]\n",
      " kbars [[0.0, 0.011], [0.0], [0.397, 0.048], [0.006]]\n",
      " grad tau dot n [[-1.294, -2.523], [-0.557], [1.851, 5.949], [-3.426]]\n",
      " optimals [False, False, True, False]\n"
     ]
    },
    {
     "data": {
      "text/plain": [
       "[False, False, True, False]"
      ]
     },
     "execution_count": 1616,
     "metadata": {},
     "output_type": "execute_result"
    }
   ],
   "source": [
    "s.step(True, vtx=0)"
   ]
  },
  {
   "cell_type": "code",
   "execution_count": 1617,
   "metadata": {},
   "outputs": [
    {
     "name": "stdout",
     "output_type": "stream",
     "text": [
      "ktildes [0.    0.    0.048 0.006]\n",
      "updated vertex 2\n",
      "new times [0.375 0.925 0.048 0.   ]\n",
      "minstep 0.04758266808317875\n",
      "next step preview\n",
      " ktildes [-0.     0.092 -0.     0.071]\n",
      " kbars [[0.061, -0.0], [0.092], [0.35, -0.0], [0.071]]\n",
      " grad tau dot n [[-0.708, -1.767], [-0.699], [1.408, -7.102], [8.869]]\n",
      " optimals [False, False, False, True]\n"
     ]
    },
    {
     "data": {
      "text/plain": [
       "[False, False, False, True]"
      ]
     },
     "execution_count": 1617,
     "metadata": {},
     "output_type": "execute_result"
    }
   ],
   "source": [
    "s.step(True, vtx=2)"
   ]
  },
  {
   "cell_type": "code",
   "execution_count": 1618,
   "metadata": {},
   "outputs": [
    {
     "name": "stdout",
     "output_type": "stream",
     "text": [
      "ktildes [-0.     0.092 -0.     0.071]\n",
      "updated vertex 3\n",
      "new times [0.375 0.925 0.048 0.071]\n",
      "minstep 0.04758266808317875\n",
      "next step preview\n",
      " ktildes [-0.     0.092  0.082  0.   ]\n",
      " kbars [[0.061, -0.0], [0.092], [0.35, 0.082], [0.0]]\n",
      " grad tau dot n [[-0.708, -2.418], [-0.699], [1.408, 11.287], [-8.869]]\n",
      " optimals [False, False, True, False]\n"
     ]
    },
    {
     "data": {
      "text/plain": [
       "[False, False, True, False]"
      ]
     },
     "execution_count": 1618,
     "metadata": {},
     "output_type": "execute_result"
    }
   ],
   "source": [
    "s.step(True, vtx=3)"
   ]
  },
  {
   "cell_type": "code",
   "execution_count": 1619,
   "metadata": {},
   "outputs": [
    {
     "name": "stdout",
     "output_type": "stream",
     "text": [
      "ktildes [-0.     0.092  0.082  0.   ]\n",
      "updated vertex 2\n",
      "new times [0.375 0.925 0.13  0.071]\n",
      "minstep 0.04758266808317875\n",
      "next step preview\n",
      " ktildes [-0.     0.14  -0.     0.099]\n",
      " kbars [[0.15, -0.0], [0.14], [0.267, -0.0], [0.099]]\n",
      " grad tau dot n [[0.305, -1.111], [-0.945], [0.64, -11.287], [12.399]]\n",
      " optimals [False, False, False, True]\n"
     ]
    },
    {
     "data": {
      "text/plain": [
       "[False, False, False, True]"
      ]
     },
     "execution_count": 1619,
     "metadata": {},
     "output_type": "execute_result"
    }
   ],
   "source": [
    "s.step(True, vtx=2)"
   ]
  },
  {
   "cell_type": "code",
   "execution_count": 1620,
   "metadata": {},
   "outputs": [
    {
     "name": "stdout",
     "output_type": "stream",
     "text": [
      "ktildes [-0.     0.14  -0.     0.099]\n",
      "updated vertex 3\n",
      "new times [0.375 0.925 0.13  0.171]\n",
      "minstep 0.04758266808317875\n",
      "next step preview\n",
      " ktildes [-0.     0.14   0.105 -0.   ]\n",
      " kbars [[0.15, -0.0], [0.14], [0.267, 0.105], [-0.0]]\n",
      " grad tau dot n [[0.305, -2.021], [-0.945], [0.64, 14.42], [-12.399]]\n",
      " optimals [False, False, True, False]\n"
     ]
    },
    {
     "data": {
      "text/plain": [
       "[False, False, True, False]"
      ]
     },
     "execution_count": 1620,
     "metadata": {},
     "output_type": "execute_result"
    }
   ],
   "source": [
    "s.step(True, vtx=3)"
   ]
  },
  {
   "cell_type": "code",
   "execution_count": 1621,
   "metadata": {},
   "outputs": [
    {
     "name": "stdout",
     "output_type": "stream",
     "text": [
      "ktildes [-0.     0.14   0.105 -0.   ]\n",
      "updated vertex 2\n",
      "new times [0.375 0.925 0.235 0.171]\n",
      "minstep 0.04758266808317875\n",
      "next step preview\n",
      " ktildes [-0.     0.123  0.     0.119]\n",
      " kbars [[0.251, -0.0], [0.123], [0.162, 0.0], [0.119]]\n",
      " grad tau dot n [[1.599, -0.351], [-1.259], [-0.34, -14.42], [14.771]]\n",
      " optimals [False, False, False, True]\n"
     ]
    },
    {
     "data": {
      "text/plain": [
       "[False, False, False, True]"
      ]
     },
     "execution_count": 1621,
     "metadata": {},
     "output_type": "execute_result"
    }
   ],
   "source": [
    "s.step(True, vtx=2)"
   ]
  },
  {
   "cell_type": "code",
   "execution_count": 1622,
   "metadata": {},
   "outputs": [
    {
     "name": "stdout",
     "output_type": "stream",
     "text": [
      "ktildes [-0.     0.123  0.     0.119]\n",
      "updated vertex 3\n",
      "new times [0.375 0.925 0.235 0.289]\n",
      "minstep 0.04758266808317875\n",
      "next step preview\n",
      " ktildes [ 0.     0.123  0.118 -0.   ]\n",
      " kbars [[0.251, 0.0], [0.123], [0.162, 0.118], [-0.0]]\n",
      " grad tau dot n [[1.599, -1.435], [-1.259], [-0.34, 16.206], [-14.771]]\n",
      " optimals [False, False, True, False]\n"
     ]
    },
    {
     "data": {
      "text/plain": [
       "[False, False, True, False]"
      ]
     },
     "execution_count": 1622,
     "metadata": {},
     "output_type": "execute_result"
    }
   ],
   "source": [
    "s.step(True, vtx=3)"
   ]
  },
  {
   "cell_type": "code",
   "execution_count": 1623,
   "metadata": {},
   "outputs": [
    {
     "name": "stdout",
     "output_type": "stream",
     "text": [
      "ktildes [ 0.     0.123  0.118 -0.   ]\n",
      "updated vertex 2\n",
      "new times [0.375 0.925 0.353 0.289]\n",
      "minstep 0.04758266808317875\n",
      "next step preview\n",
      " ktildes [0.131 0.043 0.    0.126]\n",
      " kbars [[0.355, 0.131], [0.043], [0.044, 0.0], [0.126]]\n",
      " grad tau dot n [[3.053, 0.441], [-1.612], [-1.442, -16.206], [15.764]]\n",
      " optimals [True, False, False, True]\n"
     ]
    },
    {
     "data": {
      "text/plain": [
       "[True, False, False, True]"
      ]
     },
     "execution_count": 1623,
     "metadata": {},
     "output_type": "execute_result"
    }
   ],
   "source": [
    "s.step(True, vtx=2)"
   ]
  },
  {
   "cell_type": "code",
   "execution_count": 1624,
   "metadata": {},
   "outputs": [
    {
     "name": "stdout",
     "output_type": "stream",
     "text": [
      "ktildes [0.131 0.043 0.    0.126]\n",
      "updated vertex 0\n",
      "new times [0.506 0.925 0.353 0.289]\n",
      "minstep 0.04758266808317875\n",
      "next step preview\n",
      " ktildes [-0.     0.259  0.     0.117]\n",
      " kbars [[0.224, -0.0], [0.259], [0.279, 0.0], [0.117]]\n",
      " grad tau dot n [[0.649, -0.441], [-0.821], [0.172, -14.124], [14.566]]\n",
      " optimals [False, False, False, True]\n"
     ]
    },
    {
     "data": {
      "text/plain": [
       "[False, False, False, True]"
      ]
     },
     "execution_count": 1624,
     "metadata": {},
     "output_type": "execute_result"
    }
   ],
   "source": [
    "s.step(True, vtx=0)"
   ]
  },
  {
   "cell_type": "code",
   "execution_count": 1625,
   "metadata": {},
   "outputs": [
    {
     "name": "stdout",
     "output_type": "stream",
     "text": [
      "ktildes [-0.     0.259  0.     0.117]\n",
      "updated vertex 3\n",
      "new times [0.506 0.925 0.353 0.406]\n",
      "minstep 0.04758266808317875\n",
      "next step preview\n",
      " ktildes [ 0.     0.259  0.117 -0.   ]\n",
      " kbars [[0.224, 0.0], [0.259], [0.279, 0.117], [-0.0]]\n",
      " grad tau dot n [[0.649, -1.51], [-0.821], [0.172, 16.076], [-14.566]]\n",
      " optimals [False, False, True, False]\n"
     ]
    },
    {
     "data": {
      "text/plain": [
       "[False, False, True, False]"
      ]
     },
     "execution_count": 1625,
     "metadata": {},
     "output_type": "execute_result"
    }
   ],
   "source": [
    "s.step(True, vtx=3)"
   ]
  },
  {
   "cell_type": "code",
   "execution_count": 1626,
   "metadata": {},
   "outputs": [
    {
     "name": "stdout",
     "output_type": "stream",
     "text": [
      "ktildes [ 0.     0.259  0.117 -0.   ]\n",
      "updated vertex 2\n",
      "new times [0.506 0.925 0.47  0.406]\n",
      "minstep 0.04758266808317875\n",
      "next step preview\n",
      " ktildes [0.104 0.186 0.    0.126]\n",
      " kbars [[0.32, 0.104], [0.186], [0.162, 0.0], [0.126]]\n",
      " grad tau dot n [[2.092, 0.351], [-1.171], [-0.921, -16.076], [15.725]]\n",
      " optimals [True, False, False, True]\n"
     ]
    },
    {
     "data": {
      "text/plain": [
       "[True, False, False, True]"
      ]
     },
     "execution_count": 1626,
     "metadata": {},
     "output_type": "execute_result"
    }
   ],
   "source": [
    "s.step(True, vtx=2)"
   ]
  },
  {
   "cell_type": "code",
   "execution_count": 1627,
   "metadata": {},
   "outputs": [
    {
     "name": "stdout",
     "output_type": "stream",
     "text": [
      "ktildes [0.104 0.186 0.    0.126]\n",
      "updated vertex 0\n",
      "new times [0.61  0.925 0.47  0.406]\n",
      "minstep 0.04758266808317875\n",
      "next step preview\n",
      " ktildes [0.    0.358 0.    0.119]\n",
      " kbars [[0.216, 0.0], [0.358], [0.331, 0.0], [0.119]]\n",
      " grad tau dot n [[0.179, -0.351], [-0.542], [0.362, -14.42], [14.771]]\n",
      " optimals [False, False, False, True]\n"
     ]
    },
    {
     "data": {
      "text/plain": [
       "[False, False, False, True]"
      ]
     },
     "execution_count": 1627,
     "metadata": {},
     "output_type": "execute_result"
    }
   ],
   "source": [
    "s.step(True, vtx=0)"
   ]
  },
  {
   "cell_type": "code",
   "execution_count": 1628,
   "metadata": {},
   "outputs": [
    {
     "name": "stdout",
     "output_type": "stream",
     "text": [
      "ktildes [0.    0.358 0.    0.119]\n",
      "updated vertex 3\n",
      "new times [0.61  0.925 0.47  0.525]\n",
      "minstep 0.04758266808317875\n",
      "next step preview\n",
      " ktildes [ 0.     0.358  0.118 -0.   ]\n",
      " kbars [[0.216, 0.0], [0.358], [0.331, 0.118], [-0.0]]\n",
      " grad tau dot n [[0.179, -1.435], [-0.542], [0.362, 16.206], [-14.771]]\n",
      " optimals [False, False, True, False]\n"
     ]
    },
    {
     "data": {
      "text/plain": [
       "[False, False, True, False]"
      ]
     },
     "execution_count": 1628,
     "metadata": {},
     "output_type": "execute_result"
    }
   ],
   "source": [
    "s.step(True, vtx=3)"
   ]
  },
  {
   "cell_type": "code",
   "execution_count": 1629,
   "metadata": {},
   "outputs": [
    {
     "name": "stdout",
     "output_type": "stream",
     "text": [
      "ktildes [ 0.     0.358  0.118 -0.   ]\n",
      "updated vertex 2\n",
      "new times [0.61  0.925 0.589 0.525]\n",
      "minstep 0.04758266808317875\n",
      "next step preview\n",
      " ktildes [0.131 0.279 0.    0.126]\n",
      " kbars [[0.308, 0.131], [0.279], [0.212, 0.0], [0.126]]\n",
      " grad tau dot n [[1.634, 0.441], [-0.894], [-0.739, -16.206], [15.764]]\n",
      " optimals [True, False, False, True]\n"
     ]
    },
    {
     "data": {
      "text/plain": [
       "[True, False, False, True]"
      ]
     },
     "execution_count": 1629,
     "metadata": {},
     "output_type": "execute_result"
    }
   ],
   "source": [
    "s.step(True, vtx=2)"
   ]
  },
  {
   "cell_type": "code",
   "execution_count": 1630,
   "metadata": {},
   "outputs": [
    {
     "name": "stdout",
     "output_type": "stream",
     "text": [
      "ktildes [0.131 0.279 0.    0.126]\n",
      "updated vertex 0\n",
      "new times [0.741 0.925 0.589 0.525]\n",
      "minstep 0.04758266808317875\n",
      "next step preview\n",
      " ktildes [ 0.     0.495 -0.     0.117]\n",
      " kbars [[0.177, 0.0], [0.495], [0.41, -0.0], [0.117]]\n",
      " grad tau dot n [[-0.77, -0.441], [-0.104], [0.874, -14.124], [14.566]]\n",
      " optimals [False, False, False, True]\n"
     ]
    },
    {
     "data": {
      "text/plain": [
       "[False, False, False, True]"
      ]
     },
     "execution_count": 1630,
     "metadata": {},
     "output_type": "execute_result"
    }
   ],
   "source": [
    "s.step(True, vtx=0)"
   ]
  },
  {
   "cell_type": "code",
   "execution_count": 1631,
   "metadata": {},
   "outputs": [
    {
     "name": "stdout",
     "output_type": "stream",
     "text": [
      "ktildes [ 0.     0.495 -0.     0.117]\n",
      "updated vertex 3\n",
      "new times [0.741 0.925 0.589 0.641]\n",
      "minstep 0.04758266808317875\n",
      "next step preview\n",
      " ktildes [-0.     0.495  0.117 -0.   ]\n",
      " kbars [[0.177, -0.0], [0.495], [0.41, 0.117], [-0.0]]\n",
      " grad tau dot n [[-0.77, -1.51], [-0.104], [0.874, 16.076], [-14.566]]\n",
      " optimals [False, False, True, False]\n"
     ]
    },
    {
     "data": {
      "text/plain": [
       "[False, False, True, False]"
      ]
     },
     "execution_count": 1631,
     "metadata": {},
     "output_type": "execute_result"
    }
   ],
   "source": [
    "s.step(True, vtx=3)"
   ]
  },
  {
   "cell_type": "code",
   "execution_count": 1632,
   "metadata": {},
   "outputs": [
    {
     "name": "stdout",
     "output_type": "stream",
     "text": [
      "ktildes [-0.     0.495  0.117 -0.   ]\n",
      "updated vertex 2\n",
      "new times [0.741 0.925 0.706 0.641]\n",
      "minstep 0.04758266808317875\n",
      "next step preview\n",
      " ktildes [ 0.104  0.422 -0.     0.126]\n",
      " kbars [[0.264, 0.104], [0.422], [0.292, -0.0], [0.126]]\n",
      " grad tau dot n [[0.672, 0.351], [-0.454], [-0.219, -16.076], [15.725]]\n",
      " optimals [True, False, False, True]\n"
     ]
    },
    {
     "data": {
      "text/plain": [
       "[True, False, False, True]"
      ]
     },
     "execution_count": 1632,
     "metadata": {},
     "output_type": "execute_result"
    }
   ],
   "source": [
    "s.step(True, vtx=2)"
   ]
  },
  {
   "cell_type": "code",
   "execution_count": 1633,
   "metadata": {},
   "outputs": [
    {
     "name": "stdout",
     "output_type": "stream",
     "text": [
      "ktildes [ 0.104  0.422 -0.     0.126]\n",
      "updated vertex 0\n",
      "new times [0.845 0.925 0.706 0.641]\n",
      "minstep 0.04758266808317875\n",
      "next step preview\n",
      " ktildes [ 0.     0.594 -0.     0.119]\n",
      " kbars [[0.16, 0.0], [0.594], [0.44, -0.0], [0.119]]\n",
      " grad tau dot n [[-1.241, -0.351], [0.175], [1.065, -14.42], [14.771]]\n",
      " optimals [False, True, False, True]\n"
     ]
    },
    {
     "data": {
      "text/plain": [
       "[False, True, False, True]"
      ]
     },
     "execution_count": 1633,
     "metadata": {},
     "output_type": "execute_result"
    }
   ],
   "source": [
    "s.step(True, vtx=0)"
   ]
  },
  {
   "cell_type": "code",
   "execution_count": 1634,
   "metadata": {},
   "outputs": [
    {
     "name": "stdout",
     "output_type": "stream",
     "text": [
      "ktildes [ 0.     0.594 -0.     0.119]\n",
      "updated vertex 1\n",
      "new times [0.845 1.518 0.706 0.641]\n",
      "minstep 0.04758266808317875\n",
      "next step preview\n",
      " ktildes [ 0.     0.    -0.     0.119]\n",
      " kbars [[0.255, 0.0], [0.0], [-0.0, -0.0], [0.119]]\n",
      " grad tau dot n [[2.34, -0.351], [-1.633], [-0.707, -14.42], [14.771]]\n",
      " optimals [False, False, False, True]\n"
     ]
    },
    {
     "data": {
      "text/plain": [
       "[False, False, False, True]"
      ]
     },
     "execution_count": 1634,
     "metadata": {},
     "output_type": "execute_result"
    }
   ],
   "source": [
    "s.step(True, vtx=1)"
   ]
  },
  {
   "cell_type": "code",
   "execution_count": 1635,
   "metadata": {},
   "outputs": [
    {
     "name": "stdout",
     "output_type": "stream",
     "text": [
      "ktildes [ 0.     0.    -0.     0.119]\n",
      "updated vertex 3\n",
      "new times [0.845 1.518 0.706 0.76 ]\n",
      "minstep 0.04758266808317875\n",
      "next step preview\n",
      " ktildes [ 0.  0. -0.  0.]\n",
      " kbars [[0.255, 0.0], [0.0], [-0.0, 0.118], [0.0]]\n",
      " grad tau dot n [[2.34, -1.435], [-1.633], [-0.707, 16.206], [-14.771]]\n",
      " optimals [False, False, False, False]\n"
     ]
    },
    {
     "data": {
      "text/plain": [
       "[False, False, False, False]"
      ]
     },
     "execution_count": 1635,
     "metadata": {},
     "output_type": "execute_result"
    }
   ],
   "source": [
    "s.step(True, vtx=3)"
   ]
  },
  {
   "cell_type": "markdown",
   "metadata": {},
   "source": [
    "## Another example\n",
    "The longest optimal sequence for this 2-triangle mesh terminates after 93 steps"
   ]
  },
  {
   "cell_type": "code",
   "execution_count": 8,
   "metadata": {},
   "outputs": [
    {
     "data": {
      "image/png": "[encoded data removed]",
      "text/plain": [
       "<Figure size 432x288 with 1 Axes>"
      ]
     },
     "metadata": {
      "needs_background": "light"
     },
     "output_type": "display_data"
    }
   ],
   "source": [
    "vpts = np.array([[0.58228029, 0.18701104],\n",
    "       [0.99382862, 0.81330621],\n",
    "       [0.26723904, 0.27925846],\n",
    "       [0.22784489, 0.05875047]])\n",
    "\n",
    "s = slab2d(vpts=vpts)\n",
    "s.plot()"
   ]
  },
  {
   "cell_type": "code",
   "execution_count": 10,
   "metadata": {},
   "outputs": [
    {
     "name": "stdout",
     "output_type": "stream",
     "text": [
      "\n",
      "Starting sequence with vertex 0\n",
      "level 1 vtx 0\n",
      "Optimal vertices [1 2 3]\n",
      "level 2 vtx 1\n",
      "Optimal vertices [2 3]\n",
      "level 3 vtx 2\n",
      "Optimal vertices [3]\n",
      "level 4 vtx 3\n",
      "No optimal vertices - path terminated.\n",
      "level 3 vtx 3\n",
      "No optimal vertices - path terminated.\n",
      "level 2 vtx 2\n",
      "Optimal vertices [0]\n",
      "level 3 vtx 0\n",
      "Optimal vertices [1 2]\n",
      "level 4 vtx 1\n",
      "Optimal vertices [2]\n",
      "level 5 vtx 2\n",
      "Optimal vertices [3]\n",
      "level 6 vtx 3\n",
      "Optimal vertices [0]\n",
      "level 7 vtx 0\n",
      "Optimal vertices [2]\n",
      "level 8 vtx 2\n",
      "Optimal vertices [0 3]\n",
      "level 9 vtx 0\n",
      "Optimal vertices [1 2 3]\n",
      "level 10 vtx 1\n",
      "Optimal vertices [2 3]\n",
      "level 11 vtx 2\n",
      "Optimal vertices [3]\n",
      "level 12 vtx 3\n",
      "Optimal vertices [2]\n",
      "level 13 vtx 2\n",
      "Optimal vertices [0 3]\n",
      "level 14 vtx 0\n",
      "Optimal vertices [1 2 3]\n",
      "level 15 vtx 1\n",
      "Optimal vertices [2 3]\n",
      "level 16 vtx 2\n",
      "Optimal vertices [3]\n",
      "level 17 vtx 3\n",
      "Optimal vertices [2]\n",
      "level 18 vtx 2\n",
      "Optimal vertices [0 3]\n",
      "level 19 vtx 0\n",
      "Optimal vertices [3]\n",
      "level 20 vtx 3\n",
      "Optimal vertices [2]\n",
      "level 21 vtx 2\n",
      "Optimal vertices [0 3]\n",
      "level 22 vtx 0\n",
      "Optimal vertices [1 2 3]\n",
      "level 23 vtx 1\n",
      "Optimal vertices [2 3]\n",
      "level 24 vtx 2\n",
      "Optimal vertices [3]\n",
      "level 25 vtx 3\n",
      "Optimal vertices [2]\n",
      "level 26 vtx 2\n",
      "Optimal vertices [0 3]\n",
      "level 27 vtx 0\n",
      "Optimal vertices [1 3]\n",
      "level 28 vtx 1\n",
      "Optimal vertices [3]\n",
      "level 29 vtx 3\n",
      "Optimal vertices [2]\n",
      "level 30 vtx 2\n",
      "Optimal vertices [0 3]\n",
      "level 31 vtx 0\n",
      "Optimal vertices [3]\n",
      "level 32 vtx 3\n",
      "Optimal vertices [2]\n",
      "level 33 vtx 2\n",
      "Optimal vertices [0 3]\n",
      "level 34 vtx 0\n",
      "Optimal vertices [3]\n",
      "level 35 vtx 3\n",
      "Optimal vertices [2]\n",
      "level 36 vtx 2\n",
      "Optimal vertices [0 3]\n",
      "level 37 vtx 0\n",
      "Optimal vertices [1 3]\n",
      "level 38 vtx 1\n",
      "Optimal vertices [3]\n",
      "level 39 vtx 3\n",
      "Optimal vertices [2]\n",
      "level 40 vtx 2\n",
      "Optimal vertices [0 3]\n",
      "level 41 vtx 0\n",
      "Optimal vertices [2 3]\n",
      "level 42 vtx 2\n",
      "Optimal vertices [3]\n",
      "level 43 vtx 3\n",
      "Optimal vertices [2]\n",
      "level 44 vtx 2\n",
      "Optimal vertices [0 3]\n",
      "level 45 vtx 0\n",
      "Optimal vertices [3]\n",
      "level 46 vtx 3\n",
      "Optimal vertices [2]\n",
      "level 47 vtx 2\n",
      "Optimal vertices [0 3]\n",
      "level 48 vtx 0\n",
      "Optimal vertices [1 3]\n",
      "level 49 vtx 1\n",
      "Optimal vertices [3]\n",
      "level 50 vtx 3\n",
      "Optimal vertices [2]\n",
      "level 51 vtx 2\n",
      "Optimal vertices [0 3]\n",
      "level 52 vtx 0\n",
      "Optimal vertices [3]\n",
      "level 53 vtx 3\n",
      "Optimal vertices [2]\n",
      "level 54 vtx 2\n",
      "Optimal vertices [0 3]\n",
      "level 55 vtx 0\n",
      "Optimal vertices [3]\n",
      "level 56 vtx 3\n",
      "Optimal vertices [2]\n",
      "level 57 vtx 2\n",
      "Optimal vertices [0 3]\n",
      "level 58 vtx 0\n",
      "Optimal vertices [1 2 3]\n",
      "level 59 vtx 1\n",
      "Optimal vertices [2 3]\n",
      "level 60 vtx 2\n",
      "Optimal vertices [3]\n",
      "level 61 vtx 3\n",
      "Optimal vertices [2]\n",
      "level 62 vtx 2\n",
      "Optimal vertices [0 3]\n",
      "level 63 vtx 0\n",
      "Optimal vertices [2 3]\n",
      "level 64 vtx 2\n",
      "Optimal vertices [3]\n",
      "level 65 vtx 3\n",
      "Optimal vertices [2]\n",
      "level 66 vtx 2\n",
      "Optimal vertices [0 3]\n",
      "level 67 vtx 0\n",
      "Optimal vertices [1 3]\n",
      "level 68 vtx 1\n",
      "Optimal vertices [3]\n",
      "level 69 vtx 3\n",
      "Optimal vertices [2]\n",
      "level 70 vtx 2\n",
      "Optimal vertices [0]\n",
      "level 71 vtx 0\n",
      "Optimal vertices [2 3]\n",
      "level 72 vtx 2\n",
      "Optimal vertices [3]\n",
      "level 73 vtx 3\n",
      "Optimal vertices [2]\n",
      "level 74 vtx 2\n",
      "Optimal vertices [0 3]\n",
      "level 75 vtx 0\n",
      "Optimal vertices [1 2 3]\n",
      "level 76 vtx 1\n",
      "Optimal vertices [2 3]\n",
      "level 77 vtx 2\n",
      "Optimal vertices [3]\n",
      "level 78 vtx 3\n",
      "Optimal vertices [2]\n",
      "level 79 vtx 2\n",
      "Optimal vertices [0 3]\n",
      "level 80 vtx 0\n",
      "Optimal vertices [3]\n",
      "level 81 vtx 3\n",
      "Optimal vertices [2]\n",
      "level 82 vtx 2\n",
      "Optimal vertices [0 3]\n",
      "level 83 vtx 0\n",
      "Optimal vertices [1 3]\n",
      "level 84 vtx 1\n",
      "Optimal vertices [3]\n",
      "level 85 vtx 3\n",
      "Optimal vertices [2]\n",
      "level 86 vtx 2\n",
      "Optimal vertices [0 3]\n",
      "level 87 vtx 0\n",
      "Optimal vertices [3]\n",
      "level 88 vtx 3\n",
      "Optimal vertices [2]\n",
      "level 89 vtx 2\n",
      "Optimal vertices [0 3]\n",
      "level 90 vtx 0\n",
      "Optimal vertices [1 3]\n",
      "level 91 vtx 1\n",
      "Optimal vertices [3]\n",
      "level 92 vtx 3\n",
      "Optimal vertices [2]\n",
      "level 93 vtx 2\n",
      "No optimal vertices - path terminated.\n",
      "level 91 vtx 3\n",
      "No optimal vertices - path terminated.\n",
      "level 90 vtx 3\n",
      "No optimal vertices - path terminated.\n",
      "level 87 vtx 3\n",
      "No optimal vertices - path terminated.\n",
      "level 84 vtx 3\n",
      "No optimal vertices - path terminated.\n",
      "level 83 vtx 3\n",
      "No optimal vertices - path terminated.\n",
      "level 80 vtx 3\n",
      "No optimal vertices - path terminated.\n",
      "level 77 vtx 3\n",
      "No optimal vertices - path terminated.\n",
      "level 76 vtx 2\n",
      "No optimal vertices - path terminated.\n",
      "level 76 vtx 3\n",
      "No optimal vertices - path terminated.\n",
      "level 75 vtx 3\n",
      "No optimal vertices - path terminated.\n",
      "level 72 vtx 3\n",
      "No optimal vertices - path terminated.\n",
      "level 68 vtx 3\n",
      "No optimal vertices - path terminated.\n",
      "level 67 vtx 3\n",
      "No optimal vertices - path terminated.\n",
      "level 64 vtx 3\n",
      "No optimal vertices - path terminated.\n",
      "level 63 vtx 3\n",
      "No optimal vertices - path terminated.\n",
      "level 60 vtx 3\n",
      "No optimal vertices - path terminated.\n",
      "level 59 vtx 2\n",
      "No optimal vertices - path terminated.\n",
      "level 59 vtx 3\n",
      "No optimal vertices - path terminated.\n",
      "level 58 vtx 3\n",
      "No optimal vertices - path terminated.\n",
      "level 55 vtx 3\n",
      "No optimal vertices - path terminated.\n",
      "level 52 vtx 3\n",
      "No optimal vertices - path terminated.\n",
      "level 49 vtx 3\n",
      "No optimal vertices - path terminated.\n",
      "level 48 vtx 3\n",
      "No optimal vertices - path terminated.\n",
      "level 45 vtx 3\n",
      "No optimal vertices - path terminated.\n",
      "level 42 vtx 3\n",
      "No optimal vertices - path terminated.\n",
      "level 41 vtx 3\n",
      "No optimal vertices - path terminated.\n",
      "level 38 vtx 3\n",
      "No optimal vertices - path terminated.\n",
      "level 37 vtx 3\n",
      "No optimal vertices - path terminated.\n",
      "level 34 vtx 3\n",
      "No optimal vertices - path terminated.\n",
      "level 31 vtx 3\n",
      "No optimal vertices - path terminated.\n",
      "level 28 vtx 3\n",
      "No optimal vertices - path terminated.\n",
      "level 27 vtx 3\n",
      "No optimal vertices - path terminated.\n",
      "level 24 vtx 3\n",
      "No optimal vertices - path terminated.\n",
      "level 23 vtx 2\n",
      "No optimal vertices - path terminated.\n",
      "level 23 vtx 3\n",
      "No optimal vertices - path terminated.\n",
      "level 22 vtx 3\n",
      "No optimal vertices - path terminated.\n",
      "level 19 vtx 3\n",
      "No optimal vertices - path terminated.\n",
      "level 16 vtx 3\n",
      "No optimal vertices - path terminated.\n",
      "level 15 vtx 2\n",
      "No optimal vertices - path terminated.\n",
      "level 15 vtx 3\n",
      "No optimal vertices - path terminated.\n",
      "level 14 vtx 3\n",
      "No optimal vertices - path terminated.\n",
      "level 11 vtx 3\n",
      "No optimal vertices - path terminated.\n",
      "level 10 vtx 2\n",
      "No optimal vertices - path terminated.\n",
      "level 10 vtx 3\n",
      "No optimal vertices - path terminated.\n",
      "level 9 vtx 3\n",
      "No optimal vertices - path terminated.\n",
      "level 4 vtx 2\n",
      "No optimal vertices - path terminated.\n",
      "level 2 vtx 3\n",
      "No optimal vertices - path terminated.\n",
      "\n",
      "Starting sequence with vertex 1\n",
      "level 1 vtx 1\n",
      "Optimal vertices [0]\n",
      "level 2 vtx 0\n",
      "Optimal vertices [2 3]\n",
      "level 3 vtx 2\n",
      "Optimal vertices [3]\n",
      "level 4 vtx 3\n",
      "Optimal vertices [2]\n",
      "level 5 vtx 2\n",
      "Optimal vertices [0 3]\n",
      "level 6 vtx 0\n",
      "Optimal vertices [1 3]\n",
      "level 7 vtx 1\n",
      "Optimal vertices [3]\n",
      "level 8 vtx 3\n",
      "Optimal vertices [2]\n",
      "level 9 vtx 2\n",
      "Optimal vertices [0 3]\n",
      "level 10 vtx 0\n",
      "Optimal vertices [3]\n",
      "level 11 vtx 3\n",
      "Optimal vertices [2]\n",
      "level 12 vtx 2\n",
      "Optimal vertices [0 3]\n",
      "level 13 vtx 0\n",
      "Optimal vertices [1 2 3]\n",
      "level 14 vtx 1\n",
      "Optimal vertices [2 3]\n",
      "level 15 vtx 2\n",
      "Optimal vertices [3]\n",
      "level 16 vtx 3\n",
      "Optimal vertices [2]\n",
      "level 17 vtx 2\n",
      "Optimal vertices [0 3]\n",
      "level 18 vtx 0\n",
      "Optimal vertices [1 3]\n",
      "level 19 vtx 1\n",
      "Optimal vertices [3]\n",
      "level 20 vtx 3\n",
      "Optimal vertices [2]\n",
      "level 21 vtx 2\n",
      "Optimal vertices [0 3]\n",
      "level 22 vtx 0\n",
      "Optimal vertices [3]\n",
      "level 23 vtx 3\n",
      "Optimal vertices [2]\n",
      "level 24 vtx 2\n",
      "Optimal vertices [0 3]\n",
      "level 25 vtx 0\n",
      "Optimal vertices [1 3]\n",
      "level 26 vtx 1\n",
      "Optimal vertices [3]\n",
      "level 27 vtx 3\n",
      "Optimal vertices [2]\n",
      "level 28 vtx 2\n",
      "Optimal vertices [0]\n",
      "level 29 vtx 0\n",
      "Optimal vertices [2]\n",
      "level 30 vtx 2\n",
      "Optimal vertices [3]\n",
      "level 31 vtx 3\n",
      "Optimal vertices [0]\n",
      "level 32 vtx 0\n",
      "Optimal vertices [2]\n",
      "level 33 vtx 2\n",
      "Optimal vertices [0 3]\n",
      "level 34 vtx 0\n",
      "Optimal vertices [1 2 3]\n",
      "level 35 vtx 1\n",
      "Optimal vertices [2 3]\n",
      "level 36 vtx 2\n",
      "Optimal vertices [3]\n",
      "level 37 vtx 3\n",
      "Optimal vertices [2]\n",
      "level 38 vtx 2\n",
      "Optimal vertices [0 3]\n",
      "level 39 vtx 0\n",
      "Optimal vertices [1 3]\n",
      "level 40 vtx 1\n",
      "Optimal vertices [3]\n",
      "level 41 vtx 3\n",
      "Optimal vertices [2]\n",
      "level 42 vtx 2\n",
      "Optimal vertices [0 3]\n",
      "level 43 vtx 0\n",
      "Optimal vertices [2 3]\n",
      "level 44 vtx 2\n",
      "Optimal vertices [3]\n",
      "level 45 vtx 3\n",
      "Optimal vertices [2]\n",
      "level 46 vtx 2\n",
      "Optimal vertices [0 3]\n",
      "level 47 vtx 0\n",
      "Optimal vertices [3]\n",
      "level 48 vtx 3\n",
      "Optimal vertices [2]\n",
      "level 49 vtx 2\n",
      "Optimal vertices [0 3]\n",
      "level 50 vtx 0\n",
      "Optimal vertices [1 2 3]\n",
      "level 51 vtx 1\n",
      "Optimal vertices [2 3]\n",
      "level 52 vtx 2\n",
      "Optimal vertices [3]\n",
      "level 53 vtx 3\n",
      "Optimal vertices [2]\n",
      "level 54 vtx 2\n",
      "Optimal vertices [0 3]\n",
      "level 55 vtx 0\n",
      "Optimal vertices [2 3]\n",
      "level 56 vtx 2\n",
      "Optimal vertices [3]\n",
      "level 57 vtx 3\n",
      "Optimal vertices [2]\n",
      "level 58 vtx 2\n",
      "Optimal vertices [0 3]\n",
      "level 59 vtx 0\n",
      "Optimal vertices [1 3]\n",
      "level 60 vtx 1\n",
      "Optimal vertices [3]\n",
      "level 61 vtx 3\n",
      "Optimal vertices [2]\n",
      "level 62 vtx 2\n",
      "Optimal vertices [0]\n",
      "level 63 vtx 0\n",
      "Optimal vertices [2]\n",
      "level 64 vtx 2\n",
      "Optimal vertices [3]\n",
      "level 65 vtx 3\n",
      "Optimal vertices [2]\n",
      "level 66 vtx 2\n",
      "Optimal vertices [0 3]\n",
      "level 67 vtx 0\n",
      "Optimal vertices [1 2 3]\n",
      "level 68 vtx 1\n",
      "Optimal vertices [2 3]\n",
      "level 69 vtx 2\n",
      "Optimal vertices [3]\n",
      "level 70 vtx 3\n",
      "Optimal vertices [2]\n",
      "level 71 vtx 2\n",
      "Optimal vertices [0 3]\n",
      "level 72 vtx 0\n",
      "Optimal vertices [1 3]\n",
      "level 73 vtx 1\n",
      "Optimal vertices [3]\n",
      "level 74 vtx 3\n",
      "Optimal vertices [2]\n",
      "level 75 vtx 2\n",
      "Optimal vertices [0 3]\n",
      "level 76 vtx 0\n",
      "Optimal vertices [2 3]\n",
      "level 77 vtx 2\n",
      "Optimal vertices [3]\n",
      "level 78 vtx 3\n",
      "Optimal vertices [2]\n",
      "level 79 vtx 2\n",
      "Optimal vertices [0 3]\n",
      "level 80 vtx 0\n",
      "Optimal vertices [1 3]\n",
      "level 81 vtx 1\n",
      "Optimal vertices [3]\n",
      "level 82 vtx 3\n",
      "Optimal vertices [2]\n",
      "level 83 vtx 2\n",
      "No optimal vertices - path terminated.\n",
      "level 81 vtx 3\n",
      "No optimal vertices - path terminated.\n",
      "level 80 vtx 3\n",
      "No optimal vertices - path terminated.\n",
      "level 77 vtx 3\n",
      "No optimal vertices - path terminated.\n",
      "level 76 vtx 3\n",
      "No optimal vertices - path terminated.\n",
      "level 73 vtx 3\n",
      "No optimal vertices - path terminated.\n",
      "level 72 vtx 3\n",
      "No optimal vertices - path terminated.\n",
      "level 69 vtx 3\n",
      "No optimal vertices - path terminated.\n",
      "level 68 vtx 2\n",
      "No optimal vertices - path terminated.\n",
      "level 68 vtx 3\n",
      "No optimal vertices - path terminated.\n",
      "level 67 vtx 3\n",
      "No optimal vertices - path terminated.\n",
      "level 60 vtx 3\n",
      "No optimal vertices - path terminated.\n",
      "level 59 vtx 3\n",
      "No optimal vertices - path terminated.\n",
      "level 56 vtx 3\n",
      "No optimal vertices - path terminated.\n",
      "level 55 vtx 3\n",
      "No optimal vertices - path terminated.\n",
      "level 52 vtx 3\n",
      "No optimal vertices - path terminated.\n",
      "level 51 vtx 2\n",
      "No optimal vertices - path terminated.\n",
      "level 51 vtx 3\n",
      "No optimal vertices - path terminated.\n",
      "level 50 vtx 3\n",
      "No optimal vertices - path terminated.\n",
      "level 47 vtx 3\n",
      "No optimal vertices - path terminated.\n",
      "level 44 vtx 3\n",
      "No optimal vertices - path terminated.\n",
      "level 43 vtx 3\n",
      "No optimal vertices - path terminated.\n",
      "level 40 vtx 3\n",
      "No optimal vertices - path terminated.\n",
      "level 39 vtx 3\n",
      "No optimal vertices - path terminated.\n",
      "level 36 vtx 3\n",
      "No optimal vertices - path terminated.\n",
      "level 35 vtx 2\n",
      "No optimal vertices - path terminated.\n",
      "level 35 vtx 3\n",
      "No optimal vertices - path terminated.\n",
      "level 34 vtx 3\n",
      "No optimal vertices - path terminated.\n",
      "level 26 vtx 3\n",
      "No optimal vertices - path terminated.\n",
      "level 25 vtx 3\n",
      "No optimal vertices - path terminated.\n",
      "level 22 vtx 3\n",
      "No optimal vertices - path terminated.\n",
      "level 19 vtx 3\n",
      "No optimal vertices - path terminated.\n",
      "level 18 vtx 3\n",
      "No optimal vertices - path terminated.\n",
      "level 15 vtx 3\n",
      "No optimal vertices - path terminated.\n",
      "level 14 vtx 2\n"
     ]
    },
    {
     "name": "stdout",
     "output_type": "stream",
     "text": [
      "No optimal vertices - path terminated.\n",
      "level 14 vtx 3\n",
      "No optimal vertices - path terminated.\n",
      "level 13 vtx 3\n",
      "No optimal vertices - path terminated.\n",
      "level 10 vtx 3\n",
      "No optimal vertices - path terminated.\n",
      "level 7 vtx 3\n",
      "No optimal vertices - path terminated.\n",
      "level 6 vtx 3\n",
      "No optimal vertices - path terminated.\n",
      "level 3 vtx 3\n",
      "No optimal vertices - path terminated.\n",
      "\n",
      "Starting sequence with vertex 2\n",
      "level 1 vtx 2\n",
      "Optimal vertices [0 3]\n",
      "level 2 vtx 0\n",
      "Optimal vertices [1 3]\n",
      "level 3 vtx 1\n",
      "Optimal vertices [3]\n",
      "level 4 vtx 3\n",
      "Optimal vertices [2]\n",
      "level 5 vtx 2\n",
      "No optimal vertices - path terminated.\n",
      "level 3 vtx 3\n",
      "No optimal vertices - path terminated.\n",
      "level 2 vtx 3\n",
      "No optimal vertices - path terminated.\n",
      "\n",
      "Starting sequence with vertex 3\n",
      "level 1 vtx 3\n",
      "Optimal vertices [0 2]\n",
      "level 2 vtx 0\n",
      "Optimal vertices [1 2]\n",
      "level 3 vtx 1\n",
      "No optimal vertices - path terminated.\n",
      "level 3 vtx 2\n",
      "No optimal vertices - path terminated.\n",
      "level 2 vtx 2\n",
      "No optimal vertices - path terminated.\n"
     ]
    }
   ],
   "source": [
    "s = traverse(s)"
   ]
  },
  {
   "cell_type": "code",
   "execution_count": 11,
   "metadata": {},
   "outputs": [
    {
     "data": {
      "text/plain": [
       "array([0.07 , 0.817, 0.   , 0.223])"
      ]
     },
     "execution_count": 11,
     "metadata": {},
     "output_type": "execute_result"
    }
   ],
   "source": [
    "s.ts"
   ]
  },
  {
   "cell_type": "code",
   "execution_count": null,
   "metadata": {},
   "outputs": [],
   "source": []
  }
 ],
 "metadata": {
  "kernelspec": {
   "display_name": "Python 3",
   "language": "python",
   "name": "python3"
  },
  "language_info": {
   "codemirror_mode": {
    "name": "ipython",
    "version": 3
   },
   "file_extension": ".py",
   "mimetype": "text/x-python",
   "name": "python",
   "nbconvert_exporter": "python",
   "pygments_lexer": "ipython3",
   "version": "3.8.2"
  }
 },
 "nbformat": 4,
 "nbformat_minor": 4
}
