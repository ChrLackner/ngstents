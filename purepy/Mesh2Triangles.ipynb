{
 "cells": [
  {
   "cell_type": "markdown",
   "metadata": {},
   "source": [
    "## 2-Triangle mesh with Greedy II algorithm\n",
    "\n",
    "- We have proven (see greedyproof.pdf) that the Greedy II algorithm pitches tents to any time value for a mesh of 1 simplex of any dimension.\n",
    "- Numerous simulations on different realistic (e.g. more than 100 elements) meshes in 2D and 3D have been performed.  We have thus far never seen either the Greedy or Greedy II algorithm (see algorithm.pdf) get stuck when a constant wavespeed is used.\n",
    "- We show here examples where Greedy II fails for a mesh with 2 triangles with constant wavespeed."
   ]
  },
  {
   "cell_type": "code",
   "execution_count": 302,
   "metadata": {},
   "outputs": [],
   "source": [
    "import numpy as np\n",
    "import numpy.linalg as la\n",
    "import matplotlib.pyplot as plt\n"
   ]
  },
  {
   "cell_type": "code",
   "execution_count": 303,
   "metadata": {},
   "outputs": [],
   "source": [
    "class simplex(object):\n",
    "    \"\"\"\n",
    "    A simplex\n",
    "    \"\"\"\n",
    "\n",
    "    def __init__(self, pts, cbar=1.0):\n",
    "        \"\"\"\n",
    "        INPUTS\n",
    "\n",
    "        pts: d+1 x d numpy array, each row a vertex of a conforming simplex\n",
    "        cbar: float wavespeed\n",
    "        \"\"\"\n",
    "        self.pts = pts                # vertex points of simplex\n",
    "        self.d = pts.shape[1]         # simplex dimension\n",
    "        self.cbar = cbar              # wave speed\n",
    "        self.nmls = None              # cached normal vectors\n",
    "        self.ts = np.zeros(self.d+1)  # current vertex times\n",
    "        \n",
    "        # lists of pre-computed matrices, vectors and constants, one list element per vertex\n",
    "        # see greedyproof.pdf for details\n",
    "        Ms, Msums, Mdot1s = [], [], []  \n",
    "        for i in range(self.d+1):\n",
    "            At = np.roll(pts - pts[i, :], -(i+1), 0)[:self.d, :]\n",
    "            M = la.inv(At@At.T)\n",
    "            Ms.append(M)\n",
    "            Mdot1s.append(M.sum(axis=0))\n",
    "            Msums.append(M.sum())\n",
    "        self.Ms, self.Msums, self.Mdot1s = Ms, Msums, Mdot1s\n",
    "\n",
    "\n",
    "    def gradnormsq(self):\n",
    "        \"\"\"\n",
    "        Compute ||∇ τ||²\n",
    "        \"\"\"\n",
    "        dts = self.dts(0)\n",
    "        return dts.dot(self.Ms[0]).dot(dts)\n",
    "\n",
    "    def dts(self, ix):\n",
    "        \"\"\"\n",
    "        Compute dtₖ, the vector of time differences relative to vₖ\n",
    "\n",
    "        INPUTS\n",
    "\n",
    "        ix: index of reference vertex\n",
    "        \"\"\"\n",
    "        return np.roll(self.ts - self.ts[ix], -(ix+1))[:self.d]\n",
    "\n",
    "    def kbar(self, ix):\n",
    "        \"\"\"\n",
    "        Compute time increment kbar for vertex ix\n",
    "\n",
    "        INPUTS\n",
    "\n",
    "        ts: numpy array with d+1 elements representing vertex times\n",
    "        \"\"\"\n",
    "        M, Msum, Mdot1 = self.Ms[ix], self.Msums[ix], self.Mdot1s[ix]\n",
    "        c = self.cbar\n",
    "        dt = self.dts(ix)\n",
    "        m1dt = Mdot1.dot(dt)\n",
    "        disc = m1dt**2 - Msum * (dt.dot(M).dot(dt) - 1/c)\n",
    "        if disc < 0:\n",
    "            disc = 0.\n",
    "        return (m1dt + np.sqrt(disc))/Msum\n"
   ]
  },
  {
   "cell_type": "code",
   "execution_count": 304,
   "metadata": {},
   "outputs": [],
   "source": [
    "class slab2d(object):\n",
    "    \"\"\"\n",
    "    A tent slab based on a 2D simplicial mesh with 2 triangles\n",
    "    \"\"\"\n",
    "\n",
    "    def __init__(self, cbar=1.0, vpts=None):\n",
    "        \"\"\"\n",
    "        INPUTS\n",
    "        cbar: float wavespeed, default 1.0\n",
    "        vpts: 4x2 numpy array representing 4 2D points (if not set\n",
    "              (if not specified, random vertices are generated)\n",
    "        \"\"\"\n",
    "        self.cbar = cbar\n",
    "        \n",
    "        if vpts is None:\n",
    "            # generate random vertices for the two triangles\n",
    "            pts1 = np.random.rand(3, 2)\n",
    "            diffs1 = (pts1 - pts1[0, :])[1:, :]\n",
    "            if la.det(diffs1) <= 0:\n",
    "                pts1[[0, 1], :] = pts1[[1, 0], :]\n",
    "\n",
    "            pts2i = pts1[[0, 2], :]\n",
    "            pts2 = np.vstack((pts2i, np.random.rand(2)))\n",
    "            diffs2 = (pts2 - pts2[0, :])[1:, :]\n",
    "            while la.det(diffs2) <= 0:\n",
    "                pts2 = np.vstack((pts2i, np.random.rand(2)))\n",
    "                diffs2 = (pts2 - pts2[0, :])[1:, :]\n",
    "            self.vpts = np.vstack((pts1, pts2[-1, :]))\n",
    "        else:\n",
    "            # use the provided vertices\n",
    "            self.vpts = vpts\n",
    "            pts1 = self.vpts[:-1, :]\n",
    "            pts2 = self.vpts[[0, 2, 3], :]\n",
    "\n",
    "        # element to vertex and vertex to element maps\n",
    "        self.v2e = {0: [0, 1], 1: [0], 2: [0, 1], 3: [1]}\n",
    "        self.e2v = {0: [0, 1, 2], 1: [0, 2, 3]}\n",
    "\n",
    "        self.els = [simplex(pts1, cbar), simplex(pts2, cbar)]\n",
    "        self.ts = np.zeros(4)\n",
    "        self.minstep = 1.0e16\n",
    "\n",
    "    def elix(self, e, v):\n",
    "        \"\"\"\n",
    "        Return the index of v in the context of element e\n",
    "        \"\"\"\n",
    "        vs = self.e2v[e]\n",
    "        if v not in vs:\n",
    "            raise ValueError()\n",
    "        return vs.index(v)\n",
    "\n",
    "    def updatets(self, v):\n",
    "        \"\"\"\n",
    "        Update the time for the specified vertex based on global times\n",
    "        \"\"\"\n",
    "        for e in self.v2e[v]:\n",
    "            ix = self.elix(e, v)\n",
    "            self.els[e].ts[ix] = self.ts[v]\n",
    "\n",
    "    def kbars(self, v):\n",
    "        \"\"\"\n",
    "        Given a vertex, compute time increments which would set ||∇ τ|| = 1/cbar\n",
    "        for each adjacent element.\n",
    "        \"\"\"\n",
    "        result = []\n",
    "        for e in self.v2e[v]:\n",
    "            el = self.els[e]\n",
    "            eix = self.elix(e, v)\n",
    "            result.append(el.kbar(eix))\n",
    "        return result\n",
    "    \n",
    "    def ktildes(self):\n",
    "        \"\"\"\n",
    "        Compute the time increment for each vertex v such that\n",
    "        max over elements incident on v of ||∇ τ|| = 1/cbar\n",
    "        \"\"\"\n",
    "        result = []\n",
    "        for v in range(4):\n",
    "            kbars = self.kbars(v)\n",
    "            result.append(min(kbars))\n",
    "        return result\n",
    "\n",
    "    def step(self, verbose=False, vtx=None):\n",
    "        \"\"\"\n",
    "        If vtx is not given, select the vertex with maximal ktilde\n",
    "        and pitch a tent at that vertex.\n",
    "        If vtx is specified, override to pitch a tent at vtx\n",
    "        \"\"\"\n",
    "        ktildes = self.ktildes()\n",
    "        imax = np.argmax(ktildes)  # global index of vertex w/ max ktilde\n",
    "        ktmax = max(0, ktildes[imax])\n",
    "        if ktmax < self.minstep:\n",
    "            self.minstep = ktmax\n",
    "        if vtx is not None:\n",
    "            imax = vtx\n",
    "        self.ts[imax] += max(0, ktildes[imax])\n",
    "        self.updatets(imax)\n",
    "        if verbose:\n",
    "            print(\"ktildes\", ktildes)\n",
    "            print(\"updated vertex\", imax)\n",
    "            print(\"new times\", self.ts)\n",
    "            print(\"minstep\", self.minstep)\n",
    "            \n",
    "        # preview ktildes for next step, but don't use them to pitch a tent\n",
    "        ktildes = self.ktildes()\n",
    "        print(\"next step ktildes\", ktildes)\n",
    "\n",
    "        return ktmax\n",
    "\n",
    "    def plot(self):\n",
    "        \"\"\"\n",
    "        Draw the 2 triangle mesh\n",
    "        \"\"\"\n",
    "        fig, ax = plt.subplots()\n",
    "        ax.set_aspect('equal')\n",
    "        for el in self.els:\n",
    "            lpts = np.vstack((el.pts, el.pts[0, :])).tolist()\n",
    "            ppts = list(zip(*lpts))\n",
    "            ax.plot(ppts[0], ppts[1], 'g-')\n",
    "        vpts = self.vpts.tolist()\n",
    "        ppts = list(zip(*vpts))\n",
    "        ax.scatter(ppts[0], ppts[1], c='blue')\n",
    "        for i, pt in enumerate(vpts):\n",
    "            plt.annotate(\"  v{}\".format(i), pt)\n",
    "        plt.show()\n"
   ]
  },
  {
   "cell_type": "markdown",
   "metadata": {},
   "source": [
    "## Example 1:  $v_0 v_2 v_1$ a right angle, $v_0, v_1, v_3$ colinear "
   ]
  },
  {
   "cell_type": "code",
   "execution_count": 305,
   "metadata": {},
   "outputs": [
    {
     "data": {
      "image/png": "[encoded data removed]",
      "text/plain": [
       "<Figure size 432x288 with 1 Axes>"
      ]
     },
     "metadata": {
      "needs_background": "light"
     },
     "output_type": "display_data"
    }
   ],
   "source": [
    "vpts = np.array([[2, 0], [6.0, 0], [3, np.sqrt(3)], [0, 0]])\n",
    "\n",
    "s = slab2d(vpts=vpts)\n",
    "s.plot()"
   ]
  },
  {
   "cell_type": "code",
   "execution_count": 306,
   "metadata": {},
   "outputs": [
    {
     "name": "stdout",
     "output_type": "stream",
     "text": [
      "ktildes [1.0, 3.4641016151377553, 1.7320508075688767, 1.7320508075688772]\n",
      "updated vertex 1\n",
      "new times [0.         3.46410162 0.         0.        ]\n",
      "minstep 3.4641016151377553\n",
      "next step ktildes [0.0, 0.0, 1.7320508075688767, 1.7320508075688772]\n"
     ]
    },
    {
     "data": {
      "text/plain": [
       "3.4641016151377553"
      ]
     },
     "execution_count": 306,
     "metadata": {},
     "output_type": "execute_result"
    }
   ],
   "source": [
    "s.step(True)\n"
   ]
  },
  {
   "cell_type": "code",
   "execution_count": 307,
   "metadata": {},
   "outputs": [
    {
     "name": "stdout",
     "output_type": "stream",
     "text": [
      "ktildes [0.0, 0.0, 1.7320508075688767, 1.7320508075688772]\n",
      "updated vertex 3\n",
      "new times [0.         3.46410162 0.         1.73205081]\n",
      "minstep 1.7320508075688772\n",
      "next step ktildes [0.0, 0.0, -3.330669073875468e-16, 3.3306690738754696e-16]\n"
     ]
    },
    {
     "data": {
      "text/plain": [
       "1.7320508075688772"
      ]
     },
     "execution_count": 307,
     "metadata": {},
     "output_type": "execute_result"
    }
   ],
   "source": [
    "s.step(True)"
   ]
  },
  {
   "cell_type": "code",
   "execution_count": 308,
   "metadata": {},
   "outputs": [
    {
     "name": "stdout",
     "output_type": "stream",
     "text": [
      "ktildes [0.0, 0.0, -3.330669073875468e-16, 3.3306690738754696e-16]\n",
      "updated vertex 3\n",
      "new times [0.         3.46410162 0.         1.73205081]\n",
      "minstep 3.3306690738754696e-16\n",
      "next step ktildes [0.0, 0.0, -1.4988010832439607e-15, -3.3306690738754696e-16]\n"
     ]
    },
    {
     "data": {
      "text/plain": [
       "3.3306690738754696e-16"
      ]
     },
     "execution_count": 308,
     "metadata": {},
     "output_type": "execute_result"
    }
   ],
   "source": [
    "s.step(True)"
   ]
  },
  {
   "cell_type": "code",
   "execution_count": 309,
   "metadata": {},
   "outputs": [
    {
     "name": "stdout",
     "output_type": "stream",
     "text": [
      "ktildes [0.0, 0.0, -1.4988010832439607e-15, -3.3306690738754696e-16]\n",
      "updated vertex 0\n",
      "new times [0.         3.46410162 0.         1.73205081]\n",
      "minstep 0\n",
      "next step ktildes [0.0, 0.0, -1.4988010832439607e-15, -3.3306690738754696e-16]\n"
     ]
    },
    {
     "data": {
      "text/plain": [
       "0"
      ]
     },
     "execution_count": 309,
     "metadata": {},
     "output_type": "execute_result"
    }
   ],
   "source": [
    "s.step(True)"
   ]
  },
  {
   "cell_type": "markdown",
   "metadata": {},
   "source": [
    "## Tent slab is stuck\n",
    "Once we get zero for the max ktilde, we're done.  The slab cannot complete"
   ]
  },
  {
   "cell_type": "markdown",
   "metadata": {},
   "source": [
    "## Example 2 $v_0 v_2 v_1$ a right angle, $v_1, v_3$ distant from edge $v_0 v_1$"
   ]
  },
  {
   "cell_type": "code",
   "execution_count": 310,
   "metadata": {},
   "outputs": [
    {
     "data": {
      "image/png": "[encoded data removed]",
      "text/plain": [
       "<Figure size 432x288 with 1 Axes>"
      ]
     },
     "metadata": {
      "needs_background": "light"
     },
     "output_type": "display_data"
    }
   ],
   "source": [
    "vpts = np.array([[0, 0], [5, 1.1], [0, 1.], [-3., -4.]])\n",
    "s = slab2d(vpts=vpts)\n",
    "s.plot()"
   ]
  },
  {
   "cell_type": "code",
   "execution_count": 311,
   "metadata": {},
   "outputs": [
    {
     "name": "stdout",
     "output_type": "stream",
     "text": [
      "ktildes [0.5144957554275265, 5.0000000000000115, 0.6, 3.0000000000000053]\n",
      "updated vertex 1\n",
      "new times [0. 5. 0. 0.]\n",
      "minstep 5.0000000000000115\n",
      "next step ktildes [-1.1102299607446127e-13, -7.632783294297988e-15, 0.41968714231208504, 3.0000000000000053]\n"
     ]
    },
    {
     "data": {
      "text/plain": [
       "5.0000000000000115"
      ]
     },
     "execution_count": 311,
     "metadata": {},
     "output_type": "execute_result"
    }
   ],
   "source": [
    "s.step(True)"
   ]
  },
  {
   "cell_type": "code",
   "execution_count": 312,
   "metadata": {},
   "outputs": [
    {
     "name": "stdout",
     "output_type": "stream",
     "text": [
      "ktildes [-1.1102299607446127e-13, -7.632783294297988e-15, 0.41968714231208504, 3.0000000000000053]\n",
      "updated vertex 3\n",
      "new times [0. 5. 0. 3.]\n",
      "minstep 3.0000000000000053\n",
      "next step ktildes [-1.1102299607446127e-13, -7.632783294297988e-15, -1.3589129821411912e-15, -4.9960036108132226e-15]\n"
     ]
    },
    {
     "data": {
      "text/plain": [
       "3.0000000000000053"
      ]
     },
     "execution_count": 312,
     "metadata": {},
     "output_type": "execute_result"
    }
   ],
   "source": [
    "s.step(True)"
   ]
  },
  {
   "cell_type": "code",
   "execution_count": 313,
   "metadata": {},
   "outputs": [
    {
     "name": "stdout",
     "output_type": "stream",
     "text": [
      "ktildes [-1.1102299607446127e-13, -7.632783294297988e-15, -1.3589129821411912e-15, -4.9960036108132226e-15]\n",
      "updated vertex 2\n",
      "new times [0. 5. 0. 3.]\n",
      "minstep 0\n",
      "next step ktildes [-1.1102299607446127e-13, -7.632783294297988e-15, -1.3589129821411912e-15, -4.9960036108132226e-15]\n"
     ]
    },
    {
     "data": {
      "text/plain": [
       "0"
      ]
     },
     "execution_count": 313,
     "metadata": {},
     "output_type": "execute_result"
    }
   ],
   "source": [
    "s.step(True)"
   ]
  },
  {
   "cell_type": "markdown",
   "metadata": {},
   "source": [
    "## Maybe a slight modification could help\n",
    "The vertices with two elements are at a disadvantage.  If one of their ktilde values is only slightly less than that of a single-element vertex, maybe we could override the algorithm to keep things going."
   ]
  },
  {
   "cell_type": "code",
   "execution_count": 314,
   "metadata": {},
   "outputs": [
    {
     "data": {
      "image/png": "[encoded data removed]",
      "text/plain": [
       "<Figure size 432x288 with 1 Axes>"
      ]
     },
     "metadata": {
      "needs_background": "light"
     },
     "output_type": "display_data"
    }
   ],
   "source": [
    "vpts = np.array([[2, 0], [6.0, 0], [3, np.sqrt(3)], [0, 0]])\n",
    "\n",
    "s = slab2d(vpts=vpts)\n",
    "s.plot()"
   ]
  },
  {
   "cell_type": "code",
   "execution_count": 315,
   "metadata": {},
   "outputs": [
    {
     "name": "stdout",
     "output_type": "stream",
     "text": [
      "ktildes [1.0, 3.4641016151377553, 1.7320508075688767, 1.7320508075688772]\n",
      "updated vertex 1\n",
      "new times [0.         3.46410162 0.         0.        ]\n",
      "minstep 3.4641016151377553\n",
      "next step ktildes [0.0, 0.0, 1.7320508075688767, 1.7320508075688772]\n"
     ]
    },
    {
     "data": {
      "text/plain": [
       "3.4641016151377553"
      ]
     },
     "execution_count": 315,
     "metadata": {},
     "output_type": "execute_result"
    }
   ],
   "source": [
    "s.step(True)"
   ]
  },
  {
   "cell_type": "markdown",
   "metadata": {},
   "source": [
    "We see that vertices 2 and 3 are nearly tied, but that vertex 3 is slightly larger.  Let's override to pitch the tent at vertex 2"
   ]
  },
  {
   "cell_type": "code",
   "execution_count": 316,
   "metadata": {},
   "outputs": [
    {
     "name": "stdout",
     "output_type": "stream",
     "text": [
      "ktildes [0.0, 0.0, 1.7320508075688767, 1.7320508075688772]\n",
      "updated vertex 2\n",
      "new times [0.         3.46410162 1.73205081 0.        ]\n",
      "minstep 1.7320508075688772\n",
      "next step ktildes [1.7320508075688774, 6.661338147750941e-16, 0.0, 1.3322676295501878e-15]\n"
     ]
    },
    {
     "data": {
      "text/plain": [
       "1.7320508075688772"
      ]
     },
     "execution_count": 316,
     "metadata": {},
     "output_type": "execute_result"
    }
   ],
   "source": [
    "s.step(True, 2)"
   ]
  },
  {
   "cell_type": "code",
   "execution_count": 317,
   "metadata": {},
   "outputs": [
    {
     "name": "stdout",
     "output_type": "stream",
     "text": [
      "ktildes [1.7320508075688774, 6.661338147750941e-16, 0.0, 1.3322676295501878e-15]\n",
      "updated vertex 0\n",
      "new times [1.73205081 3.46410162 1.73205081 0.        ]\n",
      "minstep 1.7320508075688772\n",
      "next step ktildes [-2.220446049250313e-16, 1.7320508075688765, 1.7320508075688767, 3.4641016151377557]\n"
     ]
    },
    {
     "data": {
      "text/plain": [
       "1.7320508075688774"
      ]
     },
     "execution_count": 317,
     "metadata": {},
     "output_type": "execute_result"
    }
   ],
   "source": [
    "s.step(True)"
   ]
  },
  {
   "cell_type": "code",
   "execution_count": 318,
   "metadata": {},
   "outputs": [
    {
     "name": "stdout",
     "output_type": "stream",
     "text": [
      "ktildes [-2.220446049250313e-16, 1.7320508075688765, 1.7320508075688767, 3.4641016151377557]\n",
      "updated vertex 3\n",
      "new times [1.73205081 3.46410162 1.73205081 3.46410162]\n",
      "minstep 1.7320508075688772\n",
      "next step ktildes [1.732050807568876, 1.7320508075688765, -1.998401444325281e-15, -6.661338147750939e-16]\n"
     ]
    },
    {
     "data": {
      "text/plain": [
       "3.4641016151377557"
      ]
     },
     "execution_count": 318,
     "metadata": {},
     "output_type": "execute_result"
    }
   ],
   "source": [
    "s.step(True)"
   ]
  },
  {
   "cell_type": "markdown",
   "metadata": {},
   "source": [
    "This time vertices 0 and 1 are nearly tied.  Lets override to pitch the tent at vertex 0"
   ]
  },
  {
   "cell_type": "code",
   "execution_count": 319,
   "metadata": {},
   "outputs": [
    {
     "name": "stdout",
     "output_type": "stream",
     "text": [
      "ktildes [1.732050807568876, 1.7320508075688765, -1.998401444325281e-15, -6.661338147750939e-16]\n",
      "updated vertex 0\n",
      "new times [3.46410162 3.46410162 1.73205081 3.46410162]\n",
      "minstep 1.7320508075688765\n",
      "next step ktildes [2.220446049250313e-16, 3.3306690738754706e-16, 3.464101615137752, 1.7320508075688759]\n"
     ]
    },
    {
     "data": {
      "text/plain": [
       "1.7320508075688765"
      ]
     },
     "execution_count": 319,
     "metadata": {},
     "output_type": "execute_result"
    }
   ],
   "source": [
    "s.step(True,0)"
   ]
  },
  {
   "cell_type": "code",
   "execution_count": 320,
   "metadata": {},
   "outputs": [
    {
     "name": "stdout",
     "output_type": "stream",
     "text": [
      "ktildes [2.220446049250313e-16, 3.3306690738754706e-16, 3.464101615137752, 1.7320508075688759]\n",
      "updated vertex 2\n",
      "new times [3.46410162 3.46410162 5.19615242 3.46410162]\n",
      "minstep 1.7320508075688765\n",
      "next step ktildes [1.7320508075688783, 3.464101615137758, 9.992007221626405e-16, 2.6645352591003757e-15]\n"
     ]
    },
    {
     "data": {
      "text/plain": [
       "3.464101615137752"
      ]
     },
     "execution_count": 320,
     "metadata": {},
     "output_type": "execute_result"
    }
   ],
   "source": [
    "s.step(True)"
   ]
  },
  {
   "cell_type": "code",
   "execution_count": 321,
   "metadata": {},
   "outputs": [
    {
     "name": "stdout",
     "output_type": "stream",
     "text": [
      "ktildes [1.7320508075688783, 3.464101615137758, 9.992007221626405e-16, 2.6645352591003757e-15]\n",
      "updated vertex 1\n",
      "new times [3.46410162 6.92820323 5.19615242 3.46410162]\n",
      "minstep 1.7320508075688765\n",
      "next step ktildes [1.7320508075688783, 0.0, -8.326672684688673e-16, 2.6645352591003757e-15]\n"
     ]
    },
    {
     "data": {
      "text/plain": [
       "3.464101615137758"
      ]
     },
     "execution_count": 321,
     "metadata": {},
     "output_type": "execute_result"
    }
   ],
   "source": [
    "s.step(True)"
   ]
  },
  {
   "cell_type": "code",
   "execution_count": 322,
   "metadata": {},
   "outputs": [
    {
     "name": "stdout",
     "output_type": "stream",
     "text": [
      "ktildes [1.7320508075688783, 0.0, -8.326672684688673e-16, 2.6645352591003757e-15]\n",
      "updated vertex 0\n",
      "new times [5.19615242 6.92820323 5.19615242 3.46410162]\n",
      "minstep 1.7320508075688765\n",
      "next step ktildes [-5.551115123125783e-16, 1.7320508075688703, 1.7320508075688812, 3.4641016151377553]\n"
     ]
    },
    {
     "data": {
      "text/plain": [
       "1.7320508075688783"
      ]
     },
     "execution_count": 322,
     "metadata": {},
     "output_type": "execute_result"
    }
   ],
   "source": [
    "s.step(True)"
   ]
  },
  {
   "cell_type": "code",
   "execution_count": 323,
   "metadata": {},
   "outputs": [
    {
     "name": "stdout",
     "output_type": "stream",
     "text": [
      "ktildes [-5.551115123125783e-16, 1.7320508075688703, 1.7320508075688812, 3.4641016151377553]\n",
      "updated vertex 3\n",
      "new times [5.19615242 6.92820323 5.19615242 6.92820323]\n",
      "minstep 1.7320508075688765\n",
      "next step ktildes [1.7320508075688712, 1.7320508075688703, 3.330669073875468e-16, 6.661338147750939e-16]\n"
     ]
    },
    {
     "data": {
      "text/plain": [
       "3.4641016151377553"
      ]
     },
     "execution_count": 323,
     "metadata": {},
     "output_type": "execute_result"
    }
   ],
   "source": [
    "s.step(True)"
   ]
  },
  {
   "cell_type": "code",
   "execution_count": 324,
   "metadata": {},
   "outputs": [
    {
     "name": "stdout",
     "output_type": "stream",
     "text": [
      "ktildes [1.7320508075688712, 1.7320508075688703, 3.330669073875468e-16, 6.661338147750939e-16]\n",
      "updated vertex 0\n",
      "new times [6.92820323 6.92820323 5.19615242 6.92820323]\n",
      "minstep 1.7320508075688712\n",
      "next step ktildes [-2.220446049250313e-16, 0.0, 3.4641016151377477, 1.7320508075688725]\n"
     ]
    },
    {
     "data": {
      "text/plain": [
       "1.7320508075688712"
      ]
     },
     "execution_count": 324,
     "metadata": {},
     "output_type": "execute_result"
    }
   ],
   "source": [
    "s.step(True)"
   ]
  },
  {
   "cell_type": "code",
   "execution_count": 325,
   "metadata": {},
   "outputs": [
    {
     "name": "stdout",
     "output_type": "stream",
     "text": [
      "ktildes [-2.220446049250313e-16, 0.0, 3.4641016151377477, 1.7320508075688725]\n",
      "updated vertex 2\n",
      "new times [6.92820323 6.92820323 8.66025404 6.92820323]\n",
      "minstep 1.7320508075688712\n",
      "next step ktildes [1.732050807568881, 3.464101615137754, 3.330669073875468e-16, 1.3322676295501878e-15]\n"
     ]
    },
    {
     "data": {
      "text/plain": [
       "3.4641016151377477"
      ]
     },
     "execution_count": 325,
     "metadata": {},
     "output_type": "execute_result"
    }
   ],
   "source": [
    "s.step(True)"
   ]
  },
  {
   "cell_type": "markdown",
   "metadata": {},
   "source": [
    "## Overriding seems to solve the issue in this case\n",
    "Let's see if we can do the same for the other example"
   ]
  },
  {
   "cell_type": "code",
   "execution_count": 326,
   "metadata": {},
   "outputs": [
    {
     "data": {
      "image/png": "[encoded data removed]",
      "text/plain": [
       "<Figure size 432x288 with 1 Axes>"
      ]
     },
     "metadata": {
      "needs_background": "light"
     },
     "output_type": "display_data"
    }
   ],
   "source": [
    "vpts = np.array([[0, 0], [5, 1.1], [0, 1.], [-3., -4.]])\n",
    "s = slab2d(vpts=vpts)\n",
    "s.plot()"
   ]
  },
  {
   "cell_type": "code",
   "execution_count": 327,
   "metadata": {},
   "outputs": [
    {
     "name": "stdout",
     "output_type": "stream",
     "text": [
      "ktildes [0.5144957554275265, 5.0000000000000115, 0.6, 3.0000000000000053]\n",
      "updated vertex 1\n",
      "new times [0. 5. 0. 0.]\n",
      "minstep 5.0000000000000115\n",
      "next step ktildes [-1.1102299607446127e-13, -7.632783294297988e-15, 0.41968714231208504, 3.0000000000000053]\n"
     ]
    },
    {
     "data": {
      "text/plain": [
       "5.0000000000000115"
      ]
     },
     "execution_count": 327,
     "metadata": {},
     "output_type": "execute_result"
    }
   ],
   "source": [
    "s.step(True)"
   ]
  },
  {
   "cell_type": "markdown",
   "metadata": {},
   "source": [
    "If we choose the max ktilde of 3.0 in the next step, we will have painted ourselves into the corner.  Let's force it to vertex 2 instead"
   ]
  },
  {
   "cell_type": "code",
   "execution_count": 328,
   "metadata": {},
   "outputs": [
    {
     "name": "stdout",
     "output_type": "stream",
     "text": [
      "ktildes [-1.1102299607446127e-13, -7.632783294297988e-15, 0.41968714231208504, 3.0000000000000053]\n",
      "updated vertex 2\n",
      "new times [0.         5.         0.41968714 0.        ]\n",
      "minstep 3.0000000000000053\n",
      "next step ktildes [0.8027464329033552, 6.245004513516535e-15, 5.030102410310467e-16, 1.0442579168256885]\n"
     ]
    },
    {
     "data": {
      "text/plain": [
       "3.0000000000000053"
      ]
     },
     "execution_count": 328,
     "metadata": {},
     "output_type": "execute_result"
    }
   ],
   "source": [
    "s.step(True, 2)"
   ]
  },
  {
   "cell_type": "code",
   "execution_count": 329,
   "metadata": {},
   "outputs": [
    {
     "name": "stdout",
     "output_type": "stream",
     "text": [
      "ktildes [0.8027464329033552, 6.245004513516535e-15, 5.030102410310467e-16, 1.0442579168256885]\n",
      "updated vertex 3\n",
      "new times [0.         5.         0.41968714 1.04425792]\n",
      "minstep 1.0442579168256885\n",
      "next step ktildes [0.8027464329033552, 6.245004513516535e-15, 3.996802888650562e-16, 0.0]\n"
     ]
    },
    {
     "data": {
      "text/plain": [
       "1.0442579168256885"
      ]
     },
     "execution_count": 329,
     "metadata": {},
     "output_type": "execute_result"
    }
   ],
   "source": [
    "s.step(True)"
   ]
  },
  {
   "cell_type": "code",
   "execution_count": 330,
   "metadata": {},
   "outputs": [
    {
     "name": "stdout",
     "output_type": "stream",
     "text": [
      "ktildes [0.8027464329033552, 6.245004513516535e-15, 3.996802888650562e-16, 0.0]\n",
      "updated vertex 0\n",
      "new times [0.80274643 5.         0.41968714 1.04425792]\n",
      "minstep 0.8027464329033552\n",
      "next step ktildes [-2.7744477824499117e-16, 1.3183898417423795e-14, 0.9437171108685248, 4.061896950490996]\n"
     ]
    },
    {
     "data": {
      "text/plain": [
       "0.8027464329033552"
      ]
     },
     "execution_count": 330,
     "metadata": {},
     "output_type": "execute_result"
    }
   ],
   "source": [
    "s.step(True)"
   ]
  },
  {
   "cell_type": "markdown",
   "metadata": {},
   "source": [
    "If we greedily choose the max ktilde here, the max ktilde for the next step will be near machine epsilon, so again let's pitch the tent at v2 instead."
   ]
  },
  {
   "cell_type": "code",
   "execution_count": 331,
   "metadata": {},
   "outputs": [
    {
     "name": "stdout",
     "output_type": "stream",
     "text": [
      "ktildes [-2.7744477824499117e-16, 1.3183898417423795e-14, 0.9437171108685248, 4.061896950490996]\n",
      "updated vertex 2\n",
      "new times [0.80274643 5.         1.36340425 1.04425792]\n",
      "minstep 0.8027464329033552\n",
      "next step ktildes [1.0274490710383561, 0.5597079769272594, 2.3980817331903373e-16, -9.992007221626444e-16]\n"
     ]
    },
    {
     "data": {
      "text/plain": [
       "4.061896950490996"
      ]
     },
     "execution_count": 331,
     "metadata": {},
     "output_type": "execute_result"
    }
   ],
   "source": [
    "s.step(True, 2)"
   ]
  },
  {
   "cell_type": "code",
   "execution_count": 332,
   "metadata": {},
   "outputs": [
    {
     "name": "stdout",
     "output_type": "stream",
     "text": [
      "ktildes [1.0274490710383561, 0.5597079769272594, 2.3980817331903373e-16, -9.992007221626444e-16]\n",
      "updated vertex 0\n",
      "new times [1.8301955  5.         1.36340425 1.04425792]\n",
      "minstep 0.8027464329033552\n",
      "next step ktildes [1.763295392051719e-16, 0.7385627783718831, 1.18508252939933, 5.306205180320877]\n"
     ]
    },
    {
     "data": {
      "text/plain": [
       "1.0274490710383561"
      ]
     },
     "execution_count": 332,
     "metadata": {},
     "output_type": "execute_result"
    }
   ],
   "source": [
    "s.step(True)"
   ]
  },
  {
   "cell_type": "code",
   "execution_count": 333,
   "metadata": {},
   "outputs": [
    {
     "name": "stdout",
     "output_type": "stream",
     "text": [
      "ktildes [1.763295392051719e-16, 0.7385627783718831, 1.18508252939933, 5.306205180320877]\n",
      "updated vertex 3\n",
      "new times [1.8301955  5.         1.36340425 6.3504631 ]\n",
      "minstep 0.8027464329033552\n",
      "next step ktildes [0.20498440379274052, 0.7385627783718831, -7.793765632868596e-15, -1.79856129989276e-14]\n"
     ]
    },
    {
     "data": {
      "text/plain": [
       "5.306205180320877"
      ]
     },
     "execution_count": 333,
     "metadata": {},
     "output_type": "execute_result"
    }
   ],
   "source": [
    "s.step(True)"
   ]
  },
  {
   "cell_type": "code",
   "execution_count": 334,
   "metadata": {},
   "outputs": [
    {
     "name": "stdout",
     "output_type": "stream",
     "text": [
      "ktildes [0.20498440379274052, 0.7385627783718831, -7.793765632868596e-15, -1.79856129989276e-14]\n",
      "updated vertex 1\n",
      "new times [1.8301955  5.73856278 1.36340425 6.3504631 ]\n",
      "minstep 0.7385627783718831\n",
      "next step ktildes [-4.605583318866853e-15, 7.632783294297988e-15, -7.793765632868596e-15, -1.79856129989276e-14]\n"
     ]
    },
    {
     "data": {
      "text/plain": [
       "0.7385627783718831"
      ]
     },
     "execution_count": 334,
     "metadata": {},
     "output_type": "execute_result"
    }
   ],
   "source": [
    "s.step(True)"
   ]
  },
  {
   "cell_type": "markdown",
   "metadata": {},
   "source": [
    "In this example, It was not so obvious when we needed to override the greedy algorithm.  One thought is to allow \"unpitching\" a tent.  If we reach a point in the algorithm where all ktilde values are zero, perhaps we could backtrack and try overriding to overcome the issue."
   ]
  },
  {
   "cell_type": "markdown",
   "metadata": {},
   "source": [
    "## Other examples\n",
    "Most of the examples encountered so far have been similar to Example 1 or Example 2, but the tests have not been exhaustive.  Here is one other example, which requires about 20 steps to get stuck."
   ]
  },
  {
   "cell_type": "code",
   "execution_count": 362,
   "metadata": {},
   "outputs": [
    {
     "data": {
      "image/png": "[encoded data removed]",
      "text/plain": [
       "<Figure size 432x288 with 1 Axes>"
      ]
     },
     "metadata": {
      "needs_background": "light"
     },
     "output_type": "display_data"
    }
   ],
   "source": [
    "vpts = np.array([[0.07305531, 0.17414394],\n",
    "                 [0.94356742, 0.46345767],\n",
    "                 [0.65216235, 0.48257233],\n",
    "                 [0.10436469, 0.29013826]])\n",
    "s = slab2d(vpts=vpts)\n",
    "s.plot()"
   ]
  },
  {
   "cell_type": "code",
   "execution_count": 363,
   "metadata": {},
   "outputs": [
    {
     "name": "stdout",
     "output_type": "stream",
     "text": [
      "ktildes [0.0990613047264648, 0.15385459955685474, 0.11004443808990222, 0.08766148513701202]\n",
      "updated vertex 1\n",
      "new times [0.        0.1538546 0.        0.       ]\n",
      "minstep 0.15385459955685474\n",
      "next step ktildes [-3.1838290537703205e-16, 0.0, 0.21697124259945214, 0.08766148513701202]\n"
     ]
    },
    {
     "data": {
      "text/plain": [
       "0.15385459955685474"
      ]
     },
     "execution_count": 363,
     "metadata": {},
     "output_type": "execute_result"
    }
   ],
   "source": [
    "s.step(True)"
   ]
  },
  {
   "cell_type": "code",
   "execution_count": 364,
   "metadata": {},
   "outputs": [
    {
     "name": "stdout",
     "output_type": "stream",
     "text": [
      "ktildes [-3.1838290537703205e-16, 0.0, 0.21697124259945214, 0.08766148513701202]\n",
      "updated vertex 2\n",
      "new times [0.         0.1538546  0.21697124 0.        ]\n",
      "minstep 0.15385459955685474\n",
      "next step ktildes [0.06647948803151638, 0.2903974663267717, 0.0, 0.10989933247505705]\n"
     ]
    },
    {
     "data": {
      "text/plain": [
       "0.21697124259945214"
      ]
     },
     "execution_count": 364,
     "metadata": {},
     "output_type": "execute_result"
    }
   ],
   "source": [
    "s.step(True)"
   ]
  },
  {
   "cell_type": "code",
   "execution_count": 365,
   "metadata": {},
   "outputs": [
    {
     "name": "stdout",
     "output_type": "stream",
     "text": [
      "ktildes [0.06647948803151638, 0.2903974663267717, 0.0, 0.10989933247505705]\n",
      "updated vertex 1\n",
      "new times [0.         0.44425207 0.21697124 0.        ]\n",
      "minstep 0.15385459955685474\n",
      "next step ktildes [-2.918509965956127e-16, 0.0, 0.19255761970387186, 0.10989933247505705]\n"
     ]
    },
    {
     "data": {
      "text/plain": [
       "0.2903974663267717"
      ]
     },
     "execution_count": 365,
     "metadata": {},
     "output_type": "execute_result"
    }
   ],
   "source": [
    "s.step(True)"
   ]
  },
  {
   "cell_type": "code",
   "execution_count": 366,
   "metadata": {},
   "outputs": [
    {
     "name": "stdout",
     "output_type": "stream",
     "text": [
      "ktildes [-2.918509965956127e-16, 0.0, 0.19255761970387186, 0.10989933247505705]\n",
      "updated vertex 2\n",
      "new times [0.         0.44425207 0.40952886 0.        ]\n",
      "minstep 0.15385459955685474\n",
      "next step ktildes [0.02227020325051603, 0.24041018562945077, 4.3022575207353684e-17, 0.11977129746216232]\n"
     ]
    },
    {
     "data": {
      "text/plain": [
       "0.19255761970387186"
      ]
     },
     "execution_count": 366,
     "metadata": {},
     "output_type": "execute_result"
    }
   ],
   "source": [
    "s.step(True)"
   ]
  },
  {
   "cell_type": "code",
   "execution_count": 367,
   "metadata": {},
   "outputs": [
    {
     "name": "stdout",
     "output_type": "stream",
     "text": [
      "ktildes [0.02227020325051603, 0.24041018562945077, 4.3022575207353684e-17, 0.11977129746216232]\n",
      "updated vertex 1\n",
      "new times [0.         0.68466225 0.40952886 0.        ]\n",
      "minstep 0.15385459955685474\n",
      "next step ktildes [9.153508529589672e-16, -2.1024282585813245e-17, 0.06919392825420088, 0.11977129746216232]\n"
     ]
    },
    {
     "data": {
      "text/plain": [
       "0.24041018562945077"
      ]
     },
     "execution_count": 367,
     "metadata": {},
     "output_type": "execute_result"
    }
   ],
   "source": [
    "s.step(True)"
   ]
  },
  {
   "cell_type": "code",
   "execution_count": 368,
   "metadata": {},
   "outputs": [
    {
     "name": "stdout",
     "output_type": "stream",
     "text": [
      "ktildes [9.153508529589672e-16, -2.1024282585813245e-17, 0.06919392825420088, 0.11977129746216232]\n",
      "updated vertex 3\n",
      "new times [0.         0.68466225 0.40952886 0.1197713 ]\n",
      "minstep 0.11977129746216232\n",
      "next step ktildes [9.153508529589672e-16, -2.1024282585813245e-17, 0.07551521311932152, -1.3650478039342638e-17]\n"
     ]
    },
    {
     "data": {
      "text/plain": [
       "0.11977129746216232"
      ]
     },
     "execution_count": 368,
     "metadata": {},
     "output_type": "execute_result"
    }
   ],
   "source": [
    "s.step(True)"
   ]
  },
  {
   "cell_type": "code",
   "execution_count": 369,
   "metadata": {},
   "outputs": [
    {
     "name": "stdout",
     "output_type": "stream",
     "text": [
      "ktildes [9.153508529589672e-16, -2.1024282585813245e-17, 0.07551521311932152, -1.3650478039342638e-17]\n",
      "updated vertex 2\n",
      "new times [0.         0.68466225 0.48504408 0.1197713 ]\n",
      "minstep 0.07551521311932152\n",
      "next step ktildes [0.1540032633853129, 0.08748669042409166, 5.387680777588461e-15, -1.3650478039342638e-17]\n"
     ]
    },
    {
     "data": {
      "text/plain": [
       "0.07551521311932152"
      ]
     },
     "execution_count": 369,
     "metadata": {},
     "output_type": "execute_result"
    }
   ],
   "source": [
    "s.step(True)"
   ]
  },
  {
   "cell_type": "code",
   "execution_count": 370,
   "metadata": {},
   "outputs": [
    {
     "name": "stdout",
     "output_type": "stream",
     "text": [
      "ktildes [0.1540032633853129, 0.08748669042409166, 5.387680777588461e-15, -1.3650478039342638e-17]\n",
      "updated vertex 0\n",
      "new times [0.15400326 0.68466225 0.48504408 0.1197713 ]\n",
      "minstep 0.07551521311932152\n",
      "next step ktildes [2.61474631123169e-17, 0.058453378904028616, -1.119518083654745e-15, 0.15137146278207925]\n"
     ]
    },
    {
     "data": {
      "text/plain": [
       "0.1540032633853129"
      ]
     },
     "execution_count": 370,
     "metadata": {},
     "output_type": "execute_result"
    }
   ],
   "source": [
    "s.step(True)"
   ]
  },
  {
   "cell_type": "code",
   "execution_count": 371,
   "metadata": {},
   "outputs": [
    {
     "name": "stdout",
     "output_type": "stream",
     "text": [
      "ktildes [2.61474631123169e-17, 0.058453378904028616, -1.119518083654745e-15, 0.15137146278207925]\n",
      "updated vertex 3\n",
      "new times [0.15400326 0.68466225 0.48504408 0.27114276]\n",
      "minstep 0.07551521311932152\n",
      "next step ktildes [0.18418772872450603, 0.058453378904028616, 0.13289899304369587, 4.095143411802791e-17]\n"
     ]
    },
    {
     "data": {
      "text/plain": [
       "0.15137146278207925"
      ]
     },
     "execution_count": 371,
     "metadata": {},
     "output_type": "execute_result"
    }
   ],
   "source": [
    "s.step(True)"
   ]
  },
  {
   "cell_type": "code",
   "execution_count": 372,
   "metadata": {},
   "outputs": [
    {
     "name": "stdout",
     "output_type": "stream",
     "text": [
      "ktildes [0.18418772872450603, 0.058453378904028616, 0.13289899304369587, 4.095143411802791e-17]\n",
      "updated vertex 0\n",
      "new times [0.33819099 0.68466225 0.48504408 0.27114276]\n",
      "minstep 0.07551521311932152\n",
      "next step ktildes [-1.743164207487793e-17, 0.005888975072956173, -1.984600239206139e-15, 0.17087509073137952]\n"
     ]
    },
    {
     "data": {
      "text/plain": [
       "0.18418772872450603"
      ]
     },
     "execution_count": 372,
     "metadata": {},
     "output_type": "execute_result"
    }
   ],
   "source": [
    "s.step(True)"
   ]
  },
  {
   "cell_type": "code",
   "execution_count": 373,
   "metadata": {},
   "outputs": [
    {
     "name": "stdout",
     "output_type": "stream",
     "text": [
      "ktildes [-1.743164207487793e-17, 0.005888975072956173, -1.984600239206139e-15, 0.17087509073137952]\n",
      "updated vertex 3\n",
      "new times [0.33819099 0.68466225 0.48504408 0.44201785]\n",
      "minstep 0.07551521311932152\n",
      "next step ktildes [0.017959483582563798, 0.005888975072956173, 0.19934341234262593, 2.7300956078685276e-17]\n"
     ]
    },
    {
     "data": {
      "text/plain": [
       "0.17087509073137952"
      ]
     },
     "execution_count": 373,
     "metadata": {},
     "output_type": "execute_result"
    }
   ],
   "source": [
    "s.step(True)"
   ]
  },
  {
   "cell_type": "code",
   "execution_count": 374,
   "metadata": {},
   "outputs": [
    {
     "name": "stdout",
     "output_type": "stream",
     "text": [
      "ktildes [0.017959483582563798, 0.005888975072956173, 0.19934341234262593, 2.7300956078685276e-17]\n",
      "updated vertex 2\n",
      "new times [0.33819099 0.68466225 0.68438749 0.44201785]\n",
      "minstep 0.07551521311932152\n",
      "next step ktildes [0.16546549404736488, 0.2613887055664666, 2.1511287603676842e-17, 0.013990248505987339]\n"
     ]
    },
    {
     "data": {
      "text/plain": [
       "0.19934341234262593"
      ]
     },
     "execution_count": 374,
     "metadata": {},
     "output_type": "execute_result"
    }
   ],
   "source": [
    "s.step(True)"
   ]
  },
  {
   "cell_type": "code",
   "execution_count": 375,
   "metadata": {},
   "outputs": [
    {
     "name": "stdout",
     "output_type": "stream",
     "text": [
      "ktildes [0.16546549404736488, 0.2613887055664666, 2.1511287603676842e-17, 0.013990248505987339]\n",
      "updated vertex 1\n",
      "new times [0.33819099 0.94605096 0.68438749 0.44201785]\n",
      "minstep 0.07551521311932152\n",
      "next step ktildes [-6.898296283169027e-16, 2.1024282585813245e-17, 0.16483280698057418, 0.013990248505987339]\n"
     ]
    },
    {
     "data": {
      "text/plain": [
       "0.2613887055664666"
      ]
     },
     "execution_count": 375,
     "metadata": {},
     "output_type": "execute_result"
    }
   ],
   "source": [
    "s.step(True)"
   ]
  },
  {
   "cell_type": "code",
   "execution_count": 376,
   "metadata": {},
   "outputs": [
    {
     "name": "stdout",
     "output_type": "stream",
     "text": [
      "ktildes [-6.898296283169027e-16, 2.1024282585813245e-17, 0.16483280698057418, 0.013990248505987339]\n",
      "updated vertex 2\n",
      "new times [0.33819099 0.94605096 0.84922029 0.44201785]\n",
      "minstep 0.07551521311932152\n",
      "next step ktildes [0.1267621832677489, 0.1929922499795504, 0.0, 0.015145959684909996]\n"
     ]
    },
    {
     "data": {
      "text/plain": [
       "0.16483280698057418"
      ]
     },
     "execution_count": 376,
     "metadata": {},
     "output_type": "execute_result"
    }
   ],
   "source": [
    "s.step(True)"
   ]
  },
  {
   "cell_type": "code",
   "execution_count": 377,
   "metadata": {},
   "outputs": [
    {
     "name": "stdout",
     "output_type": "stream",
     "text": [
      "ktildes [0.1267621832677489, 0.1929922499795504, 0.0, 0.015145959684909996]\n",
      "updated vertex 1\n",
      "new times [0.33819099 1.13904321 0.84922029 0.44201785]\n",
      "minstep 0.07551521311932152\n",
      "next step ktildes [-4.377764948934191e-15, -1.2614569551487945e-16, 0.10733174585525618, 0.015145959684909996]\n"
     ]
    },
    {
     "data": {
      "text/plain": [
       "0.1929922499795504"
      ]
     },
     "execution_count": 377,
     "metadata": {},
     "output_type": "execute_result"
    }
   ],
   "source": [
    "s.step(True)"
   ]
  },
  {
   "cell_type": "code",
   "execution_count": 378,
   "metadata": {},
   "outputs": [
    {
     "name": "stdout",
     "output_type": "stream",
     "text": [
      "ktildes [-4.377764948934191e-15, -1.2614569551487945e-16, 0.10733174585525618, 0.015145959684909996]\n",
      "updated vertex 2\n",
      "new times [0.33819099 1.13904321 0.95655204 0.44201785]\n",
      "minstep 0.07551521311932152\n",
      "next step ktildes [0.0894776826020117, 0.10288028981091202, 7.528950661286894e-17, 0.0029148390785557025]\n"
     ]
    },
    {
     "data": {
      "text/plain": [
       "0.10733174585525618"
      ]
     },
     "execution_count": 378,
     "metadata": {},
     "output_type": "execute_result"
    }
   ],
   "source": [
    "s.step(True)"
   ]
  },
  {
   "cell_type": "code",
   "execution_count": 379,
   "metadata": {},
   "outputs": [
    {
     "name": "stdout",
     "output_type": "stream",
     "text": [
      "ktildes [0.0894776826020117, 0.10288028981091202, 7.528950661286894e-17, 0.0029148390785557025]\n",
      "updated vertex 1\n",
      "new times [0.33819099 1.2419235  0.95655204 0.44201785]\n",
      "minstep 0.07551521311932152\n",
      "next step ktildes [0.0894776826020117, -1.0512141292906622e-16, 0.010269645348617348, 0.0029148390785557025]\n"
     ]
    },
    {
     "data": {
      "text/plain": [
       "0.10288028981091202"
      ]
     },
     "execution_count": 379,
     "metadata": {},
     "output_type": "execute_result"
    }
   ],
   "source": [
    "s.step(True)"
   ]
  },
  {
   "cell_type": "code",
   "execution_count": 380,
   "metadata": {},
   "outputs": [
    {
     "name": "stdout",
     "output_type": "stream",
     "text": [
      "ktildes [0.0894776826020117, -1.0512141292906622e-16, 0.010269645348617348, 0.0029148390785557025]\n",
      "updated vertex 0\n",
      "new times [0.42766867 1.2419235  0.95655204 0.44201785]\n",
      "minstep 0.07551521311932152\n",
      "next step ktildes [3.486328414975586e-17, 0.00576234876158354, -1.0177437124134047e-16, 0.10375786563182324]\n"
     ]
    },
    {
     "data": {
      "text/plain": [
       "0.0894776826020117"
      ]
     },
     "execution_count": 380,
     "metadata": {},
     "output_type": "execute_result"
    }
   ],
   "source": [
    "s.step(True)"
   ]
  },
  {
   "cell_type": "code",
   "execution_count": 381,
   "metadata": {},
   "outputs": [
    {
     "name": "stdout",
     "output_type": "stream",
     "text": [
      "ktildes [3.486328414975586e-17, 0.00576234876158354, -1.0177437124134047e-16, 0.10375786563182324]\n",
      "updated vertex 3\n",
      "new times [0.42766867 1.2419235  0.95655204 0.54577572]\n",
      "minstep 0.07551521311932152\n",
      "next step ktildes [0.057325826641971375, 0.00576234876158354, -2.9005695803782034e-15, 3.4126195098356596e-17]\n"
     ]
    },
    {
     "data": {
      "text/plain": [
       "0.10375786563182324"
      ]
     },
     "execution_count": 381,
     "metadata": {},
     "output_type": "execute_result"
    }
   ],
   "source": [
    "s.step(True)"
   ]
  },
  {
   "cell_type": "code",
   "execution_count": 382,
   "metadata": {},
   "outputs": [
    {
     "name": "stdout",
     "output_type": "stream",
     "text": [
      "ktildes [0.057325826641971375, 0.00576234876158354, -2.9005695803782034e-15, 3.4126195098356596e-17]\n",
      "updated vertex 0\n",
      "new times [0.4849945  1.2419235  0.95655204 0.54577572]\n",
      "minstep 0.057325826641971375\n",
      "next step ktildes [3.9665203628221905e-15, 4.2048565171626487e-16, 0.12433318232919563, 0.05922062152682338]\n"
     ]
    },
    {
     "data": {
      "text/plain": [
       "0.057325826641971375"
      ]
     },
     "execution_count": 382,
     "metadata": {},
     "output_type": "execute_result"
    }
   ],
   "source": [
    "s.step(True)"
   ]
  },
  {
   "cell_type": "code",
   "execution_count": 383,
   "metadata": {},
   "outputs": [
    {
     "name": "stdout",
     "output_type": "stream",
     "text": [
      "ktildes [3.9665203628221905e-15, 4.2048565171626487e-16, 0.12433318232919563, 0.05922062152682338]\n",
      "updated vertex 2\n",
      "new times [0.4849945  1.2419235  1.08088522 0.54577572]\n",
      "minstep 0.057325826641971375\n",
      "next step ktildes [0.03656901148399238, 0.1287846383735395, -2.1511287603676842e-17, 0.05052643096723445]\n"
     ]
    },
    {
     "data": {
      "text/plain": [
       "0.12433318232919563"
      ]
     },
     "execution_count": 383,
     "metadata": {},
     "output_type": "execute_result"
    }
   ],
   "source": [
    "s.step(True)"
   ]
  },
  {
   "cell_type": "code",
   "execution_count": 384,
   "metadata": {},
   "outputs": [
    {
     "name": "stdout",
     "output_type": "stream",
     "text": [
      "ktildes [0.03656901148399238, 0.1287846383735395, -2.1511287603676842e-17, 0.05052643096723445]\n",
      "updated vertex 1\n",
      "new times [0.4849945  1.37070814 1.08088522 0.54577572]\n",
      "minstep 0.057325826641971375\n",
      "next step ktildes [0.03656901148399238, -1.2614569551487945e-16, 0.044040533076395466, 0.05052643096723445]\n"
     ]
    },
    {
     "data": {
      "text/plain": [
       "0.1287846383735395"
      ]
     },
     "execution_count": 384,
     "metadata": {},
     "output_type": "execute_result"
    }
   ],
   "source": [
    "s.step(True)"
   ]
  },
  {
   "cell_type": "code",
   "execution_count": 385,
   "metadata": {},
   "outputs": [
    {
     "name": "stdout",
     "output_type": "stream",
     "text": [
      "ktildes [0.03656901148399238, -1.2614569551487945e-16, 0.044040533076395466, 0.05052643096723445]\n",
      "updated vertex 3\n",
      "new times [0.4849945  1.37070814 1.08088522 0.59630215]\n",
      "minstep 0.05052643096723445\n",
      "next step ktildes [0.0848614189404697, -1.2614569551487945e-16, 0.0, 4.777667313769923e-17]\n"
     ]
    },
    {
     "data": {
      "text/plain": [
       "0.05052643096723445"
      ]
     },
     "execution_count": 385,
     "metadata": {},
     "output_type": "execute_result"
    }
   ],
   "source": [
    "s.step(True)"
   ]
  },
  {
   "cell_type": "code",
   "execution_count": 386,
   "metadata": {},
   "outputs": [
    {
     "name": "stdout",
     "output_type": "stream",
     "text": [
      "ktildes [0.0848614189404697, -1.2614569551487945e-16, 0.0, 4.777667313769923e-17]\n",
      "updated vertex 0\n",
      "new times [0.56985592 1.37070814 1.08088522 0.59630215]\n",
      "minstep 0.05052643096723445\n",
      "next step ktildes [-6.234998563633544e-16, 0.0, 0.05471551301813732, 0.09252659127030523]\n"
     ]
    },
    {
     "data": {
      "text/plain": [
       "0.0848614189404697"
      ]
     },
     "execution_count": 386,
     "metadata": {},
     "output_type": "execute_result"
    }
   ],
   "source": [
    "s.step(True)"
   ]
  },
  {
   "cell_type": "code",
   "execution_count": 387,
   "metadata": {},
   "outputs": [
    {
     "name": "stdout",
     "output_type": "stream",
     "text": [
      "ktildes [-6.234998563633544e-16, 0.0, 0.05471551301813732, 0.09252659127030523]\n",
      "updated vertex 3\n",
      "new times [0.56985592 1.37070814 1.08088522 0.68882874]\n",
      "minstep 0.05052643096723445\n",
      "next step ktildes [-6.234998563633544e-16, 0.0, -6.869770058790482e-15, -2.7300956078685276e-17]\n"
     ]
    },
    {
     "data": {
      "text/plain": [
       "0.09252659127030523"
      ]
     },
     "execution_count": 387,
     "metadata": {},
     "output_type": "execute_result"
    }
   ],
   "source": [
    "s.step(True)"
   ]
  },
  {
   "cell_type": "code",
   "execution_count": 388,
   "metadata": {},
   "outputs": [
    {
     "name": "stdout",
     "output_type": "stream",
     "text": [
      "ktildes [-6.234998563633544e-16, 0.0, -6.869770058790482e-15, -2.7300956078685276e-17]\n",
      "updated vertex 1\n",
      "new times [0.56985592 1.37070814 1.08088522 0.68882874]\n",
      "minstep 0\n",
      "next step ktildes [-6.234998563633544e-16, 0.0, -6.869770058790482e-15, -2.7300956078685276e-17]\n"
     ]
    },
    {
     "data": {
      "text/plain": [
       "0"
      ]
     },
     "execution_count": 388,
     "metadata": {},
     "output_type": "execute_result"
    }
   ],
   "source": [
    "s.step(True)"
   ]
  }
 ],
 "metadata": {
  "kernelspec": {
   "display_name": "Python 3",
   "language": "python",
   "name": "python3"
  },
  "language_info": {
   "codemirror_mode": {
    "name": "ipython",
    "version": 3
   },
   "file_extension": ".py",
   "mimetype": "text/x-python",
   "name": "python",
   "nbconvert_exporter": "python",
   "pygments_lexer": "ipython3",
   "version": "3.8.2"
  }
 },
 "nbformat": 4,
 "nbformat_minor": 4
}
