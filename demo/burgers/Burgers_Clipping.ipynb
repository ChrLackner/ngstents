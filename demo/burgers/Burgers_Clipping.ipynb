{
 "cells": [
  {
   "cell_type": "markdown",
   "metadata": {},
   "source": [
    "# Clipping plane visualization of tent slab solution\n",
    "\n",
    "We show how to convert a tent slab based on a 2D mesh into a 3D mesh for which we can use the webgui's clipping feature."
   ]
  },
  {
   "cell_type": "code",
   "execution_count": 1,
   "metadata": {},
   "outputs": [],
   "source": [
    "from netgen.geom2d import unit_square\n",
    "from ngsolve import Mesh, CoefficientFunction, x, y, exp, L2, H1, GridFunction, TaskManager\n",
    "from ngstents import TentSlab\n",
    "from ngstents.conslaw import Burgers\n",
    "from ngsolve.webgui import Draw\n",
    "from ngstents.utils import SlabConverter"
   ]
  },
  {
   "cell_type": "code",
   "execution_count": 2,
   "metadata": {},
   "outputs": [
    {
     "name": "stdout",
     "output_type": "stream",
     "text": [
      "Help on class SlabConverter in module ngstents.utils.slab2mesh:\n",
      "\n",
      "class SlabConverter(builtins.object)\n",
      " |  SlabConverter(tps, p_hd=1)\n",
      " |  \n",
      " |  A class for converting a tent slab to a valid NGSolve mesh.\n",
      " |  Provides a method 'Convert' to generate the mesh.\n",
      " |  Once the conversion has been performed, a number of\n",
      " |  data structures are available as attributes of the converter object.\n",
      " |  These include 'mesh', which is the generated mesh and 'gfixmap',\n",
      " |  used with an ngstents conservation law to view time slices of a solution.\n",
      " |  'gfixmap' is a list of dicts, one for each front, mapping a tent vertex\n",
      " |  pitched in that front to the corresponding vertex of the generated mesh.\n",
      " |  If the constructor is called with p_hd = 2, the tent's internal edges\n",
      " |  are also mapped to edges of the generated mesh.\n",
      " |  \n",
      " |  Methods defined here:\n",
      " |  \n",
      " |  Convert(self, tscale=1.0)\n",
      " |      Convert the tent pitched slab to an N-D mesh, providing\n",
      " |      timing information and counts.\n",
      " |  \n",
      " |  __init__(self, tps, p_hd=1)\n",
      " |      INPUTS\n",
      " |      \n",
      " |      tps: An ngstents N-D TentSlab instance, where N is one plus\n",
      " |      the dimension of the spatial mesh of the tent-pitched slab\n",
      " |      \n",
      " |      p_hd: The order of the high dimensional H1 space (1 or 2)\n",
      " |  \n",
      " |  ----------------------------------------------------------------------\n",
      " |  Data descriptors defined here:\n",
      " |  \n",
      " |  __dict__\n",
      " |      dictionary for instance variables (if defined)\n",
      " |  \n",
      " |  __weakref__\n",
      " |      list of weak references to the object (if defined)\n",
      "\n"
     ]
    }
   ],
   "source": [
    "help(SlabConverter)"
   ]
  },
  {
   "cell_type": "code",
   "execution_count": 7,
   "metadata": {
    "scrolled": false
   },
   "outputs": [
    {
     "name": "stdout",
     "output_type": "stream",
     "text": [
      "max slope 0.23813840207188286\n"
     ]
    },
    {
     "data": {
      "application/vnd.jupyter.widget-view+json": {
       "model_id": "c6cc6615db314240b2a562b47ea7e90c",
       "version_major": 2,
       "version_minor": 0
      },
      "text/plain": [
       "WebGuiWidget(value={'ngsolve_version': '6.2.2102-124-gbb6f627c8', 'mesh_dim': 2, 'order2d': 2, 'order3d': 2, '…"
      ]
     },
     "metadata": {},
     "output_type": "display_data"
    },
    {
     "name": "stdout",
     "output_type": "stream",
     "text": [
      "add vertices 0.07698\n",
      "add volume elements 0.40785\n",
      "add surface elements 0.28961\n",
      "make ngsolve mesh 0.04575\n",
      "make index map 0.6988534927368164\n",
      "3623 verts, 17104 vol elems, 3958 surf elems in 1.51993.\n",
      "0.050\n",
      "0.100\n",
      "0.150\n",
      "0.200\n",
      "0.250\n",
      "0.300\n",
      "0.350\n",
      "0.400\n",
      "0.450\n",
      "0.500\n"
     ]
    }
   ],
   "source": [
    "maxh = 0.05\n",
    "mesh = Mesh(unit_square.GenerateMesh(maxh=maxh))\n",
    "\n",
    "heapsize = 10*1000*1000\n",
    "dt = 0.05\n",
    "c = 6\n",
    "ts = TentSlab(mesh, heapsize=heapsize)\n",
    "ts.SetMaxWavespeed(c)\n",
    "ts.PitchTents(dt)\n",
    "print(\"max slope\", ts.MaxSlope())\n",
    "\n",
    "order = 4\n",
    "V = L2(mesh, order=order)\n",
    "u = GridFunction(V,\"u\")\n",
    "\n",
    "burg = Burgers(u, ts, outflow=mesh.Boundaries(\"left|bottom|right|top\"))\n",
    "burg.SetTentSolver(\"SARK\",substeps=order*order)\n",
    "\n",
    "cf = CoefficientFunction(exp(-50*((x-0.3)*(x-0.3)+(y-0.3)*(y-0.3))))\n",
    "burg.SetInitial(cf)\n",
    "\n",
    "scene = Draw(u)\n",
    "\n",
    "# SlabConverter can be used to convert a tent slab based on a 2D spatial mesh to a 3D mesh.\n",
    "# order_3d must be 1 or 2\n",
    "order_3d = 2\n",
    "sc = SlabConverter(ts, p_hd=order_3d)\n",
    "sc.Convert(tscale=5)\n",
    "mesh3d = sc.mesh\n",
    "gfixmap = sc.gfixmap\n",
    "\n",
    "# Due to memory concerns, we currently store only interpolated vertex dofs\n",
    "# (and optionally edge dofs if order_3d=2) for the 3D space.\n",
    "# We define an H1 order 1 or 2 space and associated GridFunction here.\n",
    "V3d = H1(sc.mesh, order=order_3d)\n",
    "u3d = GridFunction(V3d, \"u3d\")\n",
    "\n",
    "# Set the nested list which gives 3D mesh vertex number\n",
    "# for front and spatial vertex number\n",
    "burg.SetIdx3d(gfixmap)\n",
    "\n",
    "tend = 10*dt\n",
    "\n",
    "# Define the time steps for which we want to examine the solution using clipping\n",
    "vecs = {1: u3d.vec.CreateVector(), 10: u3d.vec.CreateVector()}\n",
    "\n",
    "t = 0\n",
    "n = 1\n",
    "\n",
    "with TaskManager():\n",
    "    while t < tend - dt/2:\n",
    "        if n in vecs:\n",
    "            # Tell Propagate to update the provided vector with the average\n",
    "            # value for each tent vertex after propagating on the tent.\n",
    "            u3d.vec.data = vecs[n]\n",
    "            burg.Propagate(hdgf=u3d)  # Propagate updates u3d \n",
    "            vecs[n].data = u3d.vec    # store updated solution vector\n",
    "        else:\n",
    "            burg.Propagate()\n",
    "        t += dt\n",
    "        n += 1\n",
    "        print(\"{:.3f}\".format(t))\n",
    "        scene.Redraw()"
   ]
  },
  {
   "cell_type": "markdown",
   "metadata": {},
   "source": [
    "## Now we can also visualize the solution on a 3D mesh using clipping"
   ]
  },
  {
   "cell_type": "code",
   "execution_count": 8,
   "metadata": {
    "scrolled": false
   },
   "outputs": [
    {
     "data": {
      "application/vnd.jupyter.widget-view+json": {
       "model_id": "f0568fe1eed549c3aa9f55c883c31af3",
       "version_major": 2,
       "version_minor": 0
      },
      "text/plain": [
       "WebGuiWidget(value={'ngsolve_version': '6.2.2102-124-gbb6f627c8', 'mesh_dim': 3, 'order2d': 2, 'order3d': 2, '…"
      ]
     },
     "metadata": {},
     "output_type": "display_data"
    },
    {
     "data": {
      "text/plain": [
       "BaseWebGuiScene"
      ]
     },
     "execution_count": 8,
     "metadata": {},
     "output_type": "execute_result"
    }
   ],
   "source": [
    "u3d.vec.data = vecs[1]\n",
    "clip = {'vec': [0, 0, -1], 'dist': 0.01} \n",
    "Draw(u3d, clipping=clip)"
   ]
  },
  {
   "cell_type": "code",
   "execution_count": 9,
   "metadata": {
    "scrolled": false
   },
   "outputs": [
    {
     "data": {
      "application/vnd.jupyter.widget-view+json": {
       "model_id": "0305c51699a149e8b84c59092aef9feb",
       "version_major": 2,
       "version_minor": 0
      },
      "text/plain": [
       "WebGuiWidget(value={'ngsolve_version': '6.2.2102-124-gbb6f627c8', 'mesh_dim': 3, 'order2d': 2, 'order3d': 2, '…"
      ]
     },
     "metadata": {},
     "output_type": "display_data"
    },
    {
     "data": {
      "text/plain": [
       "BaseWebGuiScene"
      ]
     },
     "execution_count": 9,
     "metadata": {},
     "output_type": "execute_result"
    }
   ],
   "source": [
    "u3d.vec.data = vecs[10]\n",
    "clip = {'vec': [0, 0, -1], 'dist': 0.01} \n",
    "Draw(u3d, clipping=clip)\n"
   ]
  },
  {
   "cell_type": "markdown",
   "metadata": {},
   "source": [
    "## Observations\n",
    "We can visualize the solution at an arbitrary time, but the H1 order 1 approximation is not very nice compared to the L2 order 4 solution.\n",
    "\n",
    "Try changing the H1 order to 2 to see an improvement!"
   ]
  },
  {
   "cell_type": "code",
   "execution_count": null,
   "metadata": {},
   "outputs": [],
   "source": []
  }
 ],
 "metadata": {
  "kernelspec": {
   "display_name": "Python 3",
   "language": "python",
   "name": "python3"
  },
  "language_info": {
   "codemirror_mode": {
    "name": "ipython",
    "version": 3
   },
   "file_extension": ".py",
   "mimetype": "text/x-python",
   "name": "python",
   "nbconvert_exporter": "python",
   "pygments_lexer": "ipython3",
   "version": "3.8.5"
  }
 },
 "nbformat": 4,
 "nbformat_minor": 4
}
