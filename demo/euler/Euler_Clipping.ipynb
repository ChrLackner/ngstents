{
 "cells": [
  {
   "cell_type": "markdown",
   "metadata": {},
   "source": [
    "# Clipping plane visualization of tent slab solution\n",
    "\n",
    "We show how to convert a tent slab based on a 2D mesh into a 3D mesh for which we can use the webgui's clipping feature."
   ]
  },
  {
   "cell_type": "code",
   "execution_count": 3,
   "metadata": {},
   "outputs": [],
   "source": [
    "from netgen.geom2d import unit_square\n",
    "from ngsolve import Mesh, CoefficientFunction, sqrt, x, y, exp, L2, H1, GridFunction, TaskManager\n",
    "from ngstents import TentSlab\n",
    "from ngstents.conslaw import Euler\n",
    "from ngstents.utils import SlabConverter\n",
    "from ngsolve.webgui import Draw"
   ]
  },
  {
   "cell_type": "code",
   "execution_count": 8,
   "metadata": {
    "scrolled": false
   },
   "outputs": [
    {
     "name": "stdout",
     "output_type": "stream",
     "text": [
      "max slope 0.11111111111111134\n",
      "n tents 5502\n"
     ]
    },
    {
     "data": {
      "application/vnd.jupyter.widget-view+json": {
       "model_id": "e15b5c7fd89144d1b65f76177abcda5b",
       "version_major": 2,
       "version_minor": 0
      },
      "text/plain": [
       "WebGuiWidget(value={'ngsolve_version': '6.2.2102-124-gbb6f627c8', 'mesh_dim': 2, 'order2d': 2, 'order3d': 2, '…"
      ]
     },
     "metadata": {},
     "output_type": "display_data"
    },
    {
     "name": "stdout",
     "output_type": "stream",
     "text": [
      "add vertices 0.16024\n",
      "add volume elements 0.34200\n",
      "add surface elements 0.25136\n",
      "make ngsolve mesh 0.03660\n",
      "make index map 0.6478006839752197\n",
      "6013 verts, 30273 vol elems, 4824 surf elems in 1.43866.\n",
      "0.050\n",
      "0.100\n",
      "0.150\n",
      "0.200\n",
      "0.250\n",
      "0.300\n",
      "0.350\n",
      "0.400\n",
      "0.450\n",
      "0.500\n"
     ]
    }
   ],
   "source": [
    "maxh = 0.05\n",
    "mesh = Mesh(unit_square.GenerateMesh(maxh=maxh))\n",
    "\n",
    "dt = 0.05\n",
    "tend = 0.25\n",
    "\n",
    "# using causality constant\n",
    "local_ctau = True\n",
    "global_ctau = 2/3\n",
    "wavespeed = 6\n",
    "ts = TentSlab(mesh, method=\"edge\")\n",
    "ts.SetMaxWavespeed(wavespeed)\n",
    "ts.PitchTents(dt=dt, local_ct=local_ctau, global_ct=global_ctau)\n",
    "print(\"max slope\", ts.MaxSlope())\n",
    "print(\"n tents\", ts.GetNTents())\n",
    "\n",
    "order = 4\n",
    "V = L2(mesh, order=order, dim=mesh.dim+2)\n",
    "u = GridFunction(V,\"u\")\n",
    "cl = Euler(u, ts, reflect=mesh.Boundaries(\"left|bottom|right|top\"))\n",
    "cl.SetTentSolver(\"SARK\",substeps=2*order)\n",
    "\n",
    "d = 5\n",
    "rho = CoefficientFunction(0.1+exp(-200*((x-0.5)*(x-0.5)+(y-0.5)*(y-0.5))))\n",
    "m = CoefficientFunction((0,0))\n",
    "p = CoefficientFunction(0.1+exp(-200*((x-0.5)*(x-0.5)+(y-0.5)*(y-0.5))))\n",
    "T = 2*p/rho\n",
    "E = d/4*T*rho + 1/(2*rho)*m*m\n",
    "\n",
    "cf = CoefficientFunction((rho,m,E))\n",
    "cl.SetInitial(cf)\n",
    "# visoptions.scalfunction = \"u:1\"\n",
    "# visoptions.vecfunction = None\n",
    "\n",
    "scene = Draw(u)\n",
    "\n",
    "# SlabConverter can be used to convert a tent slab based on a 2D spatial mesh to a 3D mesh.\n",
    "# order_3d must be 1 or 2\n",
    "order_3d = 2\n",
    "sc = SlabConverter(ts, p_hd=order_3d)\n",
    "sc.Convert(tscale=5)\n",
    "mesh3d = sc.mesh\n",
    "gfixmap = sc.gfixmap\n",
    "\n",
    "# Due to memory concerns, we currently store only interpolated vertex dofs\n",
    "# (and optionally edge dofs if order_3d=2) for the 3D space.\n",
    "# We define an H1 order 1 or 2 space and associated GridFunction here.\n",
    "V3d = H1(sc.mesh, order=order_3d)\n",
    "u3d = GridFunction(V3d, \"u3d\")\n",
    "\n",
    "# Set the nested list which gives 3D mesh vertex number\n",
    "# for front and spatial vertex number\n",
    "cl.SetIdx3d(gfixmap)\n",
    "\n",
    "tend = 10*dt\n",
    "\n",
    "# Define the time steps for which we want to examine the solution using clipping\n",
    "vecs = {1: u3d.vec.CreateVector(), 10: u3d.vec.CreateVector()}\n",
    "\n",
    "t = 0\n",
    "n = 1\n",
    "with TaskManager():\n",
    "    while t < tend - dt/2:\n",
    "        if n in vecs:\n",
    "            # Tell Propagate to update the provided vector with the average\n",
    "            # value for each tent vertex after propagating on the tent.\n",
    "            u3d.vec.data = vecs[n]\n",
    "            cl.Propagate(hdgf=u3d)  # Propagate updates u3d \n",
    "            vecs[n].data = u3d.vec    # store updated solution vector\n",
    "        else:\n",
    "            cl.Propagate()\n",
    "        t += dt\n",
    "        n += 1\n",
    "        print(\"{:.3f}\".format(t))\n",
    "        scene.Redraw()"
   ]
  },
  {
   "cell_type": "markdown",
   "metadata": {},
   "source": [
    "## Now we can also visualize the solution on a 3D mesh using clipping"
   ]
  },
  {
   "cell_type": "code",
   "execution_count": 9,
   "metadata": {
    "scrolled": false
   },
   "outputs": [
    {
     "data": {
      "application/vnd.jupyter.widget-view+json": {
       "model_id": "adab4217028744f5b87e69617d938879",
       "version_major": 2,
       "version_minor": 0
      },
      "text/plain": [
       "WebGuiWidget(value={'ngsolve_version': '6.2.2102-124-gbb6f627c8', 'mesh_dim': 3, 'order2d': 2, 'order3d': 2, '…"
      ]
     },
     "metadata": {},
     "output_type": "display_data"
    },
    {
     "data": {
      "text/plain": [
       "BaseWebGuiScene"
      ]
     },
     "execution_count": 9,
     "metadata": {},
     "output_type": "execute_result"
    }
   ],
   "source": [
    "u3d.vec.data = vecs[1]\n",
    "clip = {'vec': [0, 0, -1], 'dist': 0.01} \n",
    "Draw(u3d, clipping=clip)"
   ]
  },
  {
   "cell_type": "code",
   "execution_count": 10,
   "metadata": {
    "scrolled": false
   },
   "outputs": [
    {
     "data": {
      "application/vnd.jupyter.widget-view+json": {
       "model_id": "c8068370555649cbbbd1d9bd371373e2",
       "version_major": 2,
       "version_minor": 0
      },
      "text/plain": [
       "WebGuiWidget(value={'ngsolve_version': '6.2.2102-124-gbb6f627c8', 'mesh_dim': 3, 'order2d': 2, 'order3d': 2, '…"
      ]
     },
     "metadata": {},
     "output_type": "display_data"
    },
    {
     "data": {
      "text/plain": [
       "BaseWebGuiScene"
      ]
     },
     "execution_count": 10,
     "metadata": {},
     "output_type": "execute_result"
    }
   ],
   "source": [
    "u3d.vec.data = vecs[10]\n",
    "clip = {'vec': [0, 0, -1], 'dist': 0.01} \n",
    "Draw(u3d, clipping=clip)\n"
   ]
  },
  {
   "cell_type": "markdown",
   "metadata": {},
   "source": [
    "## Observations\n",
    "We can visualize the solution at an arbitrary time, but the H1 order 1 approximation is not very nice compared to the L2 order 4 solution.\n",
    "\n",
    "Try changing the H1 order to 2 to see an improvement!"
   ]
  }
 ],
 "metadata": {
  "kernelspec": {
   "display_name": "Python 3",
   "language": "python",
   "name": "python3"
  },
  "language_info": {
   "codemirror_mode": {
    "name": "ipython",
    "version": 3
   },
   "file_extension": ".py",
   "mimetype": "text/x-python",
   "name": "python",
   "nbconvert_exporter": "python",
   "pygments_lexer": "ipython3",
   "version": "3.8.5"
  }
 },
 "nbformat": 4,
 "nbformat_minor": 4
}
